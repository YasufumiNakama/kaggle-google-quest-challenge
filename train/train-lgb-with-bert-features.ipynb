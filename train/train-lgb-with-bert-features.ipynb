{
 "cells": [
  {
   "cell_type": "code",
   "execution_count": 1,
   "metadata": {},
   "outputs": [
    {
     "name": "stderr",
     "output_type": "stream",
     "text": [
      "[Data Loading] start\n",
      "[Data Loading] done in 0 s\n",
      "[Num features] start\n",
      "[Num features] done in 1 s\n",
      "[Cat features] start\n",
      "[Cat features] done in 0 s\n"
     ]
    },
    {
     "name": "stdout",
     "output_type": "stream",
     "text": [
      "[(60, 30), (6, 3), (3, 2)]\n"
     ]
    }
   ],
   "source": [
    "#===========================================================\n",
    "# Base code from https://www.kaggle.com/phoenix9032/pytorch-bert-plain\n",
    "#===========================================================\n",
    "import os\n",
    "import sys\n",
    "import gc\n",
    "import time\n",
    "import glob\n",
    "import multiprocessing\n",
    "import re\n",
    "from urllib.parse import urlparse\n",
    "from tqdm import tqdm\n",
    "from logging import getLogger, INFO, StreamHandler, FileHandler, Formatter\n",
    "from contextlib import contextmanager\n",
    "from functools import partial\n",
    "\n",
    "import numpy as np\n",
    "import pandas as pd\n",
    "import scipy as sp\n",
    "from scipy.stats import spearmanr\n",
    "import math\n",
    "from math import floor, ceil\n",
    "import random\n",
    "\n",
    "#from iterstrat.ml_stratifiers import MultilabelStratifiedShuffleSplit, MultilabelStratifiedKFold\n",
    "from sklearn.model_selection import GroupKFold\n",
    "import category_encoders as ce\n",
    "import re\n",
    "from urllib.parse import urlparse\n",
    "\n",
    "import torch\n",
    "import torch.nn.functional as F\n",
    "from torch import nn\n",
    "from torch.utils import data\n",
    "from torch.utils.data import DataLoader, Dataset, RandomSampler, SequentialSampler\n",
    "import transformers\n",
    "from transformers import (\n",
    "    BertTokenizer, BertModel, BertForSequenceClassification, BertConfig,\n",
    "    WEIGHTS_NAME, CONFIG_NAME, AdamW, get_linear_schedule_with_warmup,\n",
    "    get_cosine_schedule_with_warmup,\n",
    ")\n",
    "from transformers.modeling_bert import BertPreTrainedModel \n",
    "\n",
    "\n",
    "#===========================================================\n",
    "# Utils\n",
    "#===========================================================\n",
    "def get_logger(filename='log'):\n",
    "    logger = getLogger(__name__)\n",
    "    logger.setLevel(INFO)\n",
    "    handler1 = StreamHandler()\n",
    "    handler1.setFormatter(Formatter(\"%(message)s\"))\n",
    "    handler2 = FileHandler(filename=f\"{filename}.log\")\n",
    "    handler2.setFormatter(Formatter(\"%(message)s\"))\n",
    "    logger.addHandler(handler1)\n",
    "    logger.addHandler(handler2)\n",
    "    return logger\n",
    "\n",
    "logger = get_logger()\n",
    "\n",
    "\n",
    "@contextmanager\n",
    "def timer(name):\n",
    "    t0 = time.time()\n",
    "    logger.info(f'[{name}] start')\n",
    "    yield\n",
    "    logger.info(f'[{name}] done in {time.time() - t0:.0f} s')\n",
    "\n",
    "\n",
    "def seed_everything(seed=42):\n",
    "    random.seed(seed)\n",
    "    os.environ[\"PYTHONHASHSEED\"] = str(seed)\n",
    "    np.random.seed(seed)\n",
    "    torch.manual_seed(seed)\n",
    "    torch.cuda.manual_seed(seed)\n",
    "    torch.backends.cudnn.deterministic = True\n",
    "\n",
    "#===========================================================\n",
    "# Config\n",
    "#===========================================================\n",
    "class PipeLineConfig:\n",
    "    def __init__(self, lr, warmup, accum_steps, epochs, seed, expname, \n",
    "                 head_tail, head, freeze, question_weight, answer_weight, fold, train, cv, test):\n",
    "        self.lr = lr\n",
    "        self.warmup = warmup\n",
    "        self.accum_steps = accum_steps\n",
    "        self.epochs = epochs\n",
    "        self.seed = seed\n",
    "        self.expname = expname\n",
    "        self.head_tail = head_tail\n",
    "        self.head = head\n",
    "        self.freeze = freeze\n",
    "        self.question_weight = question_weight\n",
    "        self.answer_weight = answer_weight\n",
    "        self.fold = fold\n",
    "        self.train = train\n",
    "        self.cv = cv\n",
    "        self.test = test\n",
    "\n",
    "config = PipeLineConfig(lr=1e-4, warmup=0.1, accum_steps=1, epochs=6,\n",
    "                        seed=42, expname='uncased_6', head_tail=True, head=0.3, freeze=False,\n",
    "                        question_weight=0., answer_weight=0., fold=5, train=False, cv=False, test=True)\n",
    "\n",
    "DEBUG = False\n",
    "ID = 'qa_id'\n",
    "target_cols = ['question_asker_intent_understanding', 'question_body_critical', \n",
    "               'question_conversational', 'question_expect_short_answer', \n",
    "               'question_fact_seeking', 'question_has_commonly_accepted_answer', \n",
    "               'question_interestingness_others', 'question_interestingness_self', \n",
    "               'question_multi_intent', 'question_not_really_a_question', \n",
    "               'question_opinion_seeking', 'question_type_choice',\n",
    "               'question_type_compare', 'question_type_consequence',\n",
    "               'question_type_definition', 'question_type_entity', \n",
    "               'question_type_instructions', 'question_type_procedure', \n",
    "               'question_type_reason_explanation', 'question_type_spelling', \n",
    "               'question_well_written', 'answer_helpful',\n",
    "               'answer_level_of_information', 'answer_plausible', \n",
    "               'answer_relevance', 'answer_satisfaction', \n",
    "               'answer_type_instructions', 'answer_type_procedure', \n",
    "               'answer_type_reason_explanation', 'answer_well_written']\n",
    "NUM_FOLDS = config.fold\n",
    "ROOT = '../input/google-quest-challenge/'\n",
    "#ROOT = '../input/'\n",
    "SEED = config.seed\n",
    "seed_everything(SEED)\n",
    "device = 'cuda' if torch.cuda.is_available() else 'cpu'\n",
    "MODEL_DIR = '../input/googlequestchallenge-weights1/'\n",
    "#MODEL_DIR = './'\n",
    "COMBINE_INPUT = False\n",
    "T_MAX_LEN = 30\n",
    "Q_MAX_LEN = 479 # 382\n",
    "A_MAX_LEN = 510 # 254 \n",
    "MAX_SEQUENCE_LENGTH = T_MAX_LEN + Q_MAX_LEN + A_MAX_LEN + 4\n",
    "q_max_sequence_length = T_MAX_LEN + Q_MAX_LEN + 3\n",
    "a_max_sequence_length = A_MAX_LEN + 2\n",
    "\n",
    "#===========================================================\n",
    "# Model\n",
    "#===========================================================\n",
    "class OptimizedRounder5(object):\n",
    "    def __init__(self):\n",
    "        self.coef = [0.3333, 0.5, 0.6667, 1.]\n",
    "\n",
    "    def _loss(self, X, y):\n",
    "        X_p = np.digitize(X, self.coef)\n",
    "        ll = spearmanr(y, X_p).correlation\n",
    "        return -ll\n",
    "\n",
    "    def fit(self, X: np.ndarray, y: np.ndarray):\n",
    "        golden1 = 0.618\n",
    "        golden2 = 1 - golden1\n",
    "        ab_start = [(0., 0.3333), (0.3333, 0.5), (0.5, 0.6667), (0.6667, 1.)]\n",
    "        for _ in range(100):\n",
    "            search = iter(range(4))\n",
    "            for idx in search:\n",
    "                # golden section search\n",
    "                a, b = ab_start[idx]\n",
    "                # calc losses\n",
    "                self.coef[idx] = a\n",
    "                la = self._loss(X, y)\n",
    "                self.coef[idx] = b\n",
    "                lb = self._loss(X, y)\n",
    "                for it in range(4):\n",
    "                    # choose value\n",
    "                    if la > lb:\n",
    "                        a = b - (b - a) * golden1\n",
    "                        self.coef[idx] = a\n",
    "                        la = self._loss(X, y)\n",
    "                    else:\n",
    "                        b = b - (b - a) * golden2\n",
    "                        self.coef[idx] = b\n",
    "                        lb = self._loss(X, y)\n",
    "\n",
    "    def predict(self, X, coef):\n",
    "        X_p = np.digitize(X, coef)\n",
    "        return X_p\n",
    "    \n",
    "    def coefficients(self):\n",
    "        return self.coef\n",
    "\n",
    "\n",
    "def _get_masks(tokens, max_seq_length):\n",
    "    \"\"\"Mask for padding\"\"\"\n",
    "    if len(tokens)>max_seq_length:\n",
    "        print(f'len(tokens): {len(tokens)}')\n",
    "        print(f'max_seq_length: {max_seq_length}')\n",
    "        raise IndexError(\"Token length more than max seq length!\")\n",
    "    return [1]*len(tokens) + [0] * (max_seq_length - len(tokens))\n",
    "\n",
    "\n",
    "def _get_segments(tokens, max_seq_length):\n",
    "    \"\"\"Segments: 0 for the first sequence, 1 for the second\"\"\"\n",
    "    \n",
    "    if len(tokens) > max_seq_length:\n",
    "        raise IndexError(\"Token length more than max seq length!\")\n",
    "        \n",
    "    segments = []\n",
    "    first_sep = True\n",
    "    current_segment_id = 0\n",
    "    \n",
    "    for token in tokens:\n",
    "        segments.append(current_segment_id)\n",
    "        if token == \"[SEP]\":\n",
    "            if first_sep:\n",
    "                first_sep = False \n",
    "            else:\n",
    "                current_segment_id = 1\n",
    "    return segments + [0] * (max_seq_length - len(tokens))\n",
    "\n",
    "\n",
    "def _get_ids(tokens, tokenizer, max_seq_length):\n",
    "    \"\"\"Token ids from Tokenizer vocab\"\"\"\n",
    "    \n",
    "    token_ids = tokenizer.convert_tokens_to_ids(tokens)\n",
    "    input_ids = token_ids + [0] * (max_seq_length-len(token_ids))\n",
    "    return input_ids\n",
    "\n",
    "\n",
    "def _trim_input(tokenizer, title, question, answer, max_sequence_length, t_max_len, q_max_len, a_max_len):\n",
    "    \n",
    "    # 350+128+30 = 508 +4 = 512\n",
    "    \n",
    "    t = tokenizer.tokenize(title)\n",
    "    q = tokenizer.tokenize(question)\n",
    "    a = tokenizer.tokenize(answer)\n",
    "    \n",
    "    t_len = len(t)\n",
    "    q_len = len(q)\n",
    "    a_len = len(a)\n",
    "\n",
    "    if (t_len+q_len+a_len+4) > max_sequence_length:\n",
    "        \n",
    "        if t_max_len > t_len:\n",
    "            t_new_len = t_len\n",
    "            a_max_len = a_max_len + floor((t_max_len - t_len)/2)\n",
    "            q_max_len = q_max_len + ceil((t_max_len - t_len)/2)\n",
    "        else:\n",
    "            t_new_len = t_max_len\n",
    "      \n",
    "        if a_max_len > a_len:\n",
    "            a_new_len = a_len \n",
    "            q_new_len = q_max_len + (a_max_len - a_len)\n",
    "        elif q_max_len > q_len:\n",
    "            a_new_len = a_max_len + (q_max_len - q_len)\n",
    "            q_new_len = q_len\n",
    "        else:\n",
    "            a_new_len = a_max_len\n",
    "            q_new_len = q_max_len\n",
    "            \n",
    "            \n",
    "        if t_new_len+a_new_len+q_new_len+4 != max_sequence_length:\n",
    "            raise ValueError(\"New sequence length should be %d, but is %d\"%(max_sequence_length, (t_new_len + a_new_len + q_new_len + 4)))\n",
    "        # Head+Tail method \n",
    "        q_len_head = round(q_new_len * config.head)\n",
    "        q_len_tail = -1 * (q_new_len - q_len_head)\n",
    "        a_len_head = round(a_new_len * config.head)\n",
    "        a_len_tail = -1 * (a_new_len - a_len_head)\n",
    "        t_len_head = round(t_new_len * config.head)\n",
    "        t_len_tail = -1 * (t_new_len - t_len_head)  \n",
    "        #t = t[:t_new_len]\n",
    "        if config.head_tail :\n",
    "            q = q[:q_len_head]+q[q_len_tail:]\n",
    "            a = a[:a_len_head]+a[a_len_tail:]\n",
    "            #t = t[:t_len_head]+t[t_len_tail:]\n",
    "            t = t[:t_new_len]\n",
    "        else:\n",
    "            # No Head+Tail , usual processing\n",
    "            q = q[:q_new_len]\n",
    "            a = a[:a_new_len]\n",
    "            t = t[:t_new_len]\n",
    "    \n",
    "    return t, q, a\n",
    "\n",
    "\n",
    "def q_trim_input(tokenizer, title, question, q_max_sequence_length, t_max_len, q_max_len):\n",
    "\n",
    "    t = tokenizer.tokenize(title)\n",
    "    q = tokenizer.tokenize(question)\n",
    "\n",
    "    t_len = len(t)\n",
    "    q_len = len(q)\n",
    "\n",
    "    if (t_len+q_len+3) > q_max_sequence_length:\n",
    "\n",
    "        if t_max_len > t_len:\n",
    "            t_new_len = t_len\n",
    "            q_max_len = q_max_len + (t_max_len - t_len)\n",
    "        else:\n",
    "            t_new_len = t_max_len\n",
    "\n",
    "        if q_max_len > q_len:\n",
    "            q_new_len = q_len\n",
    "            t_new_len = t_max_len + (q_max_len - q_len)\n",
    "        else:\n",
    "            q_new_len = q_max_len\n",
    "\n",
    "        # Head+Tail method\n",
    "        q_len_head = round(q_new_len * config.head)\n",
    "        q_len_tail = -1 * (q_new_len - q_len_head)\n",
    "        t_len_head = round(t_new_len * config.head)\n",
    "        t_len_tail = -1 * (t_new_len - t_len_head)\n",
    "        #t = t[:t_new_len]\n",
    "        if config.head_tail :\n",
    "            q = q[:q_len_head]+q[q_len_tail:]\n",
    "            t = t[:t_len_head]+t[t_len_tail:]\n",
    "            #t = t[:t_new_len]\n",
    "        else:\n",
    "            # No Head+Tail , usual processing\n",
    "            q = q[:q_new_len]\n",
    "            t = t[:t_new_len]\n",
    "\n",
    "    return t, q\n",
    "\n",
    "\n",
    "def a_trim_input(tokenizer, answer, a_max_sequence_length, a_max_len):\n",
    "\n",
    "    a = tokenizer.tokenize(answer)\n",
    "\n",
    "    a_len = len(a)\n",
    "\n",
    "    if (a_len+2) > a_max_sequence_length:\n",
    "\n",
    "        a_new_len = a_max_len\n",
    "\n",
    "        # Head+Tail method\n",
    "        a_len_head = round(a_new_len * config.head)\n",
    "        a_len_tail = -1 * (a_new_len - a_len_head)\n",
    "        if config.head_tail :\n",
    "            a = a[:a_len_head]+a[a_len_tail:]\n",
    "        else:\n",
    "            # No Head+Tail , usual processing\n",
    "            a = a[:a_new_len]\n",
    "\n",
    "    return a\n",
    "\n",
    "\n",
    "def _convert_to_bert_inputs(title, question, answer, tokenizer, max_sequence_length):\n",
    "    \"\"\"Converts tokenized input to ids, masks and segments for BERT\"\"\"\n",
    "    if COMBINE_INPUT:\n",
    "        stoken = [\"[CLS]\"] + title + [\"[QBODY]\"] + question + [\"[ANS]\"] + answer + [\"[SEP]\"]\n",
    "        #stoken = [\"[CLS]\"] + title + [\"[SEP]\"] + question + [\"[SEP]\"] + answer + [\"[SEP]\"]\n",
    "        #stoken = [\"[CLS]\"] + title  + question  + answer + [\"[SEP]\"]\n",
    "    \n",
    "        input_ids = _get_ids(stoken, tokenizer, max_sequence_length)\n",
    "        input_masks = _get_masks(stoken, max_sequence_length)\n",
    "        input_segments = _get_segments(stoken, max_sequence_length)\n",
    "\n",
    "        return [input_ids, input_masks, input_segments]\n",
    "    else:\n",
    "        q_token = [\"[CLS]\"] + title + [\"[SEP]\"] + question + [\"[SEP\"]\n",
    "        q_input_ids = _get_ids(q_token, tokenizer, T_MAX_LEN+Q_MAX_LEN+3)\n",
    "        q_input_masks = _get_masks(q_token, T_MAX_LEN+Q_MAX_LEN+3)\n",
    "        q_input_segments = _get_segments(q_token, T_MAX_LEN+Q_MAX_LEN+3)\n",
    "        \n",
    "        a_token = [\"[CLS]\"] + answer + [\"[SEP]\"]\n",
    "        a_input_ids = _get_ids(a_token, tokenizer, A_MAX_LEN+2)\n",
    "        a_input_masks = _get_masks(a_token, A_MAX_LEN+2)\n",
    "        a_input_segments = _get_segments(a_token, A_MAX_LEN+2)\n",
    "\n",
    "        return [q_input_ids, q_input_masks, q_input_segments, a_input_ids, a_input_masks, a_input_segments]\n",
    "\n",
    "\n",
    "def compute_input_arays(df, columns, tokenizer, max_sequence_length, num_features, cat_features, \n",
    "                        t_max_len=T_MAX_LEN, q_max_len=Q_MAX_LEN, a_max_len=A_MAX_LEN):\n",
    "    if COMBINE_INPUT:\n",
    "        input_ids, input_masks, input_segments = [], [], []\n",
    "        for _, instance in df[columns].iterrows():\n",
    "            t, q, a = instance.question_title, instance.question_body, instance.answer\n",
    "            t, q, a = _trim_input(tokenizer, t, q, a, max_sequence_length, t_max_len, q_max_len, a_max_len)\n",
    "            ids, masks, segments = _convert_to_bert_inputs(t, q, a, tokenizer, max_sequence_length)\n",
    "            input_ids.append(ids)\n",
    "            input_masks.append(masks)\n",
    "            input_segments.append(segments)\n",
    "        return [\n",
    "                torch.from_numpy(np.asarray(input_ids, dtype=np.int32)).long(), \n",
    "                torch.from_numpy(np.asarray(input_masks, dtype=np.int32)).long(),\n",
    "                torch.from_numpy(np.asarray(input_segments, dtype=np.int32)).long(),\n",
    "                torch.from_numpy(np.asarray(num_features, dtype=np.float32)).float(),\n",
    "                torch.from_numpy(np.asarray(cat_features, dtype=np.int32)).long(),\n",
    "                ]\n",
    "    else:\n",
    "        q_input_ids, q_input_masks, q_input_segments = [], [], []\n",
    "        a_input_ids, a_input_masks, a_input_segments = [], [], []\n",
    "        for _, instance in df[columns].iterrows():\n",
    "            t, q, a = instance.question_title, instance.question_body, instance.answer\n",
    "            t, q = q_trim_input(tokenizer, t, q, q_max_sequence_length, t_max_len, q_max_len)\n",
    "            a = a_trim_input(tokenizer, a, a_max_sequence_length, a_max_len)\n",
    "            q_ids, q_masks, q_segments, a_ids, a_masks, a_segments = _convert_to_bert_inputs(t, q, a, tokenizer, max_sequence_length)\n",
    "            q_input_ids.append(q_ids)\n",
    "            q_input_masks.append(q_masks)\n",
    "            q_input_segments.append(q_segments)\n",
    "            a_input_ids.append(a_ids)\n",
    "            a_input_masks.append(a_masks)\n",
    "            a_input_segments.append(a_segments)\n",
    "        return [\n",
    "                torch.from_numpy(np.asarray(q_input_ids, dtype=np.int32)).long(),\n",
    "                torch.from_numpy(np.asarray(q_input_masks, dtype=np.int32)).long(),\n",
    "                torch.from_numpy(np.asarray(q_input_segments, dtype=np.int32)).long(),\n",
    "                torch.from_numpy(np.asarray(a_input_ids, dtype=np.int32)).long(),\n",
    "                torch.from_numpy(np.asarray(a_input_masks, dtype=np.int32)).long(),\n",
    "                torch.from_numpy(np.asarray(a_input_segments, dtype=np.int32)).long(),\n",
    "                torch.from_numpy(np.asarray(num_features, dtype=np.float32)).float(),\n",
    "                torch.from_numpy(np.asarray(cat_features, dtype=np.int32)).long(),\n",
    "                ]\n",
    "\n",
    "\n",
    "def compute_output_arrays(df, columns):\n",
    "    return np.asarray(df[columns])\n",
    "\n",
    "\n",
    "if COMBINE_INPUT:\n",
    "\n",
    "    class QuestDataset(torch.utils.data.Dataset):\n",
    "        def __init__(self, inputs, lengths, labels = None):\n",
    "\n",
    "            self.inputs = inputs\n",
    "            if labels is not None:\n",
    "                self.labels = labels\n",
    "            else:\n",
    "                self.labels = None\n",
    "            self.lengths = lengths\n",
    "\n",
    "        def __getitem__(self, idx):\n",
    "\n",
    "            input_ids       = self.inputs[0][idx]\n",
    "            input_masks     = self.inputs[1][idx]\n",
    "            input_segments  = self.inputs[2][idx]\n",
    "            num_features    = self.inputs[3][idx]\n",
    "            cat_features    = self.inputs[4][idx]\n",
    "            lengths         = self.lengths[idx]\n",
    "            if self.labels is not None: # targets\n",
    "                labels = self.labels[idx]\n",
    "                return input_ids, input_masks, input_segments, num_features, cat_features, labels, lengths\n",
    "            return input_ids, input_masks, input_segments, num_features, cat_features, lengths\n",
    "\n",
    "        def __len__(self):\n",
    "            return len(self.inputs[0])\n",
    "\n",
    "\n",
    "    class CustomBert(BertPreTrainedModel):\n",
    "\n",
    "        def __init__(self, config, cat_dims):\n",
    "            super(CustomBert, self).__init__(config)\n",
    "            self.num_labels = config.num_labels\n",
    "            self.bert = BertModel(config)\n",
    "            self.embeddings = nn.ModuleList([\n",
    "                nn.Embedding(x, y) for x, y in cat_dims\n",
    "            ])\n",
    "            self.emb_drop = nn.Dropout(0.2)\n",
    "            n_emb_out = sum([y for x, y in cat_dims])\n",
    "            self.dropout = nn.Dropout(0.2)\n",
    "            self.classifier_final = nn.Linear(config.hidden_size+n_emb_out+4, self.config.num_labels)  # num_features=4\n",
    "\n",
    "            self.init_weights()\n",
    "\n",
    "        def forward(\n",
    "            self,\n",
    "            input_ids=None,\n",
    "            attention_mask=None,\n",
    "            token_type_ids=None,\n",
    "            num_features=None,\n",
    "            cat_features=None,\n",
    "            position_ids=None,\n",
    "            head_mask=None,\n",
    "            inputs_embeds=None,\n",
    "            labels=None,\n",
    "        ):\n",
    "\n",
    "            outputs = self.bert(\n",
    "                input_ids,\n",
    "                attention_mask=attention_mask,\n",
    "                token_type_ids=token_type_ids,\n",
    "                position_ids=position_ids,\n",
    "                head_mask=head_mask,\n",
    "                inputs_embeds=inputs_embeds,\n",
    "            )\n",
    "\n",
    "            pooled_output = outputs[1]\n",
    "            pooled_output = self.dropout(pooled_output)\n",
    "\n",
    "            emb = [\n",
    "                emb_layer(cat_features[:, j]) for j, emb_layer in enumerate(self.embeddings)\n",
    "            ]\n",
    "            emb = self.emb_drop(torch.cat(emb, 1))\n",
    "\n",
    "            pooled_output = torch.cat([pooled_output, num_features, emb], 1)\n",
    "            logits = self.classifier_final(pooled_output)\n",
    "\n",
    "            outputs = (logits,) + outputs[2:]  # add hidden states and attention if they are here\n",
    "            if labels is not None:\n",
    "                if self.num_labels == 1:\n",
    "                    #  We are doing regression\n",
    "                    loss_fct = MSELoss()\n",
    "                    loss = loss_fct(logits.view(-1), labels.view(-1))\n",
    "                else:\n",
    "                    loss_fct = CrossEntropyLoss()\n",
    "                    loss = loss_fct(logits.view(-1, self.num_labels), labels.view(-1))\n",
    "                outputs = (loss,) + outputs\n",
    "\n",
    "            return outputs  # (loss), logits, (hidden_states), (attentions)\n",
    "\n",
    "else:\n",
    "\n",
    "    class QuestDataset(torch.utils.data.Dataset):\n",
    "        def __init__(self, inputs, lengths, labels = None):\n",
    "\n",
    "            self.inputs = inputs\n",
    "            if labels is not None:\n",
    "                self.labels = labels\n",
    "            else:\n",
    "                self.labels = None\n",
    "            self.lengths = lengths\n",
    "\n",
    "        def __getitem__(self, idx):\n",
    "\n",
    "            q_input_ids       = self.inputs[0][idx]\n",
    "            q_input_masks     = self.inputs[1][idx]\n",
    "            q_input_segments  = self.inputs[2][idx]\n",
    "            a_input_ids       = self.inputs[3][idx]\n",
    "            a_input_masks     = self.inputs[4][idx]\n",
    "            a_input_segments  = self.inputs[5][idx]\n",
    "            num_features    = self.inputs[6][idx]\n",
    "            cat_features    = self.inputs[7][idx]\n",
    "            lengths         = self.lengths[idx]\n",
    "            if self.labels is not None: # targets\n",
    "                labels = self.labels[idx]\n",
    "                return q_input_ids, q_input_masks, q_input_segments, a_input_ids, a_input_masks, a_input_segments, num_features, cat_features, labels, lengths\n",
    "            return q_input_ids, q_input_masks, q_input_segments, a_input_ids, a_input_masks, a_input_segments, num_features, cat_features, lengths\n",
    "\n",
    "        def __len__(self):\n",
    "            return len(self.inputs[0])\n",
    "\n",
    "\n",
    "    class CustomBert(BertPreTrainedModel):\n",
    "\n",
    "        def __init__(self, config, cat_dims):\n",
    "            super(CustomBert, self).__init__(config)\n",
    "            self.num_labels = config.num_labels\n",
    "            self.bert = BertModel(config)\n",
    "            self.embeddings = nn.ModuleList([\n",
    "                nn.Embedding(x, y) for x, y in cat_dims\n",
    "            ])\n",
    "            self.emb_drop = nn.Dropout(0.2)\n",
    "            n_emb_out = sum([y for x, y in cat_dims])\n",
    "            self.q_dropout = nn.Dropout(0.2)\n",
    "            self.a_dropout = nn.Dropout(0.2)\n",
    "            self.classifier_final = nn.Linear(config.hidden_size*2+n_emb_out+4, self.config.num_labels)  # num_features=4\n",
    "\n",
    "            self.init_weights()\n",
    "\n",
    "        def forward(\n",
    "            self,\n",
    "            q_input_ids=None,\n",
    "            q_attention_mask=None,\n",
    "            q_token_type_ids=None,\n",
    "            a_input_ids=None,\n",
    "            a_attention_mask=None,\n",
    "            a_token_type_ids=None,\n",
    "            num_features=None,\n",
    "            cat_features=None,\n",
    "            position_ids=None,\n",
    "            head_mask=None,\n",
    "            inputs_embeds=None,\n",
    "            labels=None,\n",
    "        ):\n",
    "\n",
    "            q_outputs = self.bert(\n",
    "                q_input_ids,\n",
    "                attention_mask=q_attention_mask,\n",
    "                token_type_ids=q_token_type_ids,\n",
    "                position_ids=position_ids,\n",
    "                head_mask=head_mask,\n",
    "                inputs_embeds=inputs_embeds,\n",
    "            )\n",
    "\n",
    "            q_pooled_output = q_outputs[1]\n",
    "            q_pooled_output = self.q_dropout(q_pooled_output)\n",
    "\n",
    "            a_outputs = self.bert(\n",
    "                a_input_ids,\n",
    "                attention_mask=a_attention_mask,\n",
    "                token_type_ids=a_token_type_ids,\n",
    "                position_ids=position_ids,\n",
    "                head_mask=head_mask,\n",
    "                inputs_embeds=inputs_embeds,\n",
    "            )\n",
    "\n",
    "            a_pooled_output = a_outputs[1]\n",
    "            a_pooled_output = self.a_dropout(a_pooled_output)\n",
    "\n",
    "            emb = [\n",
    "                emb_layer(cat_features[:, j]) for j, emb_layer in enumerate(self.embeddings)\n",
    "            ]\n",
    "            emb = self.emb_drop(torch.cat(emb, 1))\n",
    "\n",
    "            pooled_output = torch.cat([q_pooled_output, a_pooled_output, num_features, emb], 1)\n",
    "            logits = self.classifier_final(pooled_output)\n",
    "\n",
    "            outputs = (logits,) + q_outputs[2:] + a_outputs[2:]  # add hidden states and attention if they are here\n",
    "            if labels is not None:\n",
    "                if self.num_labels == 1:\n",
    "                    #  We are doing regression\n",
    "                    loss_fct = MSELoss()\n",
    "                    loss = loss_fct(logits.view(-1), labels.view(-1))\n",
    "                else:\n",
    "                    loss_fct = CrossEntropyLoss()\n",
    "                    loss = loss_fct(logits.view(-1, self.num_labels), labels.view(-1))\n",
    "                outputs = (loss,) + outputs\n",
    "\n",
    "            return outputs  # (loss), logits, (hidden_states), (attentions)\n",
    "\n",
    "\n",
    "def train_model(model, train_loader, optimizer, criterion, scheduler, config):\n",
    "    \n",
    "    model.train()\n",
    "    avg_loss = 0.\n",
    "    avg_loss_1 = 0.\n",
    "    avg_loss_2 = 0.\n",
    "    avg_loss_3 = 0.\n",
    "    avg_loss_4 = 0.\n",
    "    avg_loss_5 = 0.\n",
    "    #tk0 = tqdm(enumerate(train_loader),total =len(train_loader))\n",
    "    optimizer.zero_grad()\n",
    "    for idx, batch in enumerate(train_loader):\n",
    "        if COMBINE_INPUT:\n",
    "            input_ids, input_masks, input_segments, num_features, cat_features, labels, _ = batch\n",
    "            input_ids, input_masks, input_segments, num_features, cat_features, labels = input_ids.to(device), input_masks.to(device), input_segments.to(device), num_features.to(device), cat_features.to(device), labels.to(device)            \n",
    "        \n",
    "            output_train = model(input_ids = input_ids.long(),\n",
    "                             labels = None,\n",
    "                             attention_mask = input_masks,\n",
    "                             token_type_ids = input_segments,\n",
    "                             num_features = num_features,\n",
    "                             cat_features = cat_features,\n",
    "                            )\n",
    "        else:\n",
    "            q_input_ids, q_input_masks, q_input_segments, a_input_ids, a_input_masks, a_input_segments, num_features, cat_features, labels, _ = batch\n",
    "            q_input_ids, q_input_masks, q_input_segments, a_input_ids, a_input_masks, a_input_segments, num_features, cat_features, labels = q_input_ids.to(device), q_input_masks.to(device), q_input_segments.to(device), a_input_ids.to(device), a_input_masks.to(device), a_input_segments.to(device), num_features.to(device), cat_features.to(device), labels.to(device)\n",
    "\n",
    "            output_train = model(q_input_ids = q_input_ids.long(),\n",
    "                             labels = None,\n",
    "                             q_attention_mask = q_input_masks,\n",
    "                             q_token_type_ids = q_input_segments,\n",
    "                             a_input_ids = a_input_ids.long(),\n",
    "                             a_attention_mask = a_input_masks,\n",
    "                             a_token_type_ids = a_input_segments,\n",
    "                             num_features = num_features,\n",
    "                             cat_features = cat_features,\n",
    "                            )\n",
    "        logits = output_train[0] #output preds\n",
    "        loss = criterion(logits, labels)\n",
    "        #loss =(config.question_weight*criterion(logits[:,0:21], labels[:,0:21]) + config.answer_weight*criterion(logits[:,21:30], labels[:,21:30]))/config.accum_steps\n",
    "        loss.backward()\n",
    "        if (idx + 1) % config.accum_steps == 0:    \n",
    "            optimizer.step()\n",
    "            scheduler.step()\n",
    "            optimizer.zero_grad()\n",
    "        \n",
    "        avg_loss += loss.item() / (len(train_loader)*config.accum_steps)\n",
    "        if COMBINE_INPUT:\n",
    "            del input_ids, input_masks, input_segments, labels\n",
    "        else:\n",
    "            del q_input_ids, q_input_masks, q_input_segments, a_input_ids, a_input_masks, a_input_segments, labels\n",
    "\n",
    "    torch.cuda.empty_cache()\n",
    "    gc.collect()\n",
    "    return avg_loss, avg_loss_1, avg_loss_2, avg_loss_3, avg_loss_4, avg_loss_5\n",
    "\n",
    "\n",
    "def val_model(model, criterion, val_loader, val_shape, batch_size=8):\n",
    "\n",
    "    avg_val_loss = 0.\n",
    "    model.eval() # eval mode\n",
    "    \n",
    "    valid_preds = np.zeros((val_shape, len(target_cols)))\n",
    "    original = np.zeros((val_shape, len(target_cols)))\n",
    "    \n",
    "    #tk0 = tqdm(enumerate(val_loader))\n",
    "    with torch.no_grad():\n",
    "        \n",
    "        for idx, batch in enumerate(val_loader):\n",
    "            if COMBINE_INPUT:\n",
    "                input_ids, input_masks, input_segments, num_features, cat_features, labels, _ = batch\n",
    "                input_ids, input_masks, input_segments, num_features, cat_features, labels = input_ids.to(device), input_masks.to(device), input_segments.to(device), num_features.to(device), cat_features.to(device), labels.to(device)            \n",
    "            \n",
    "                output_val = model(input_ids = input_ids.long(),\n",
    "                               labels = None,\n",
    "                               attention_mask = input_masks,\n",
    "                               token_type_ids = input_segments,\n",
    "                               num_features = num_features,\n",
    "                               cat_features = cat_features,\n",
    "                              )\n",
    "            else:\n",
    "                q_input_ids, q_input_masks, q_input_segments, a_input_ids, a_input_masks, a_input_segments, num_features, cat_features, labels, _ = batch\n",
    "                q_input_ids, q_input_masks, q_input_segments, a_input_ids, a_input_masks, a_input_segments, num_features, cat_features, labels = q_input_ids.to(device), q_input_masks.to(device), q_input_segments.to(device), a_input_ids.to(device), a_input_masks.to(device), a_input_segments.to(device), num_features.to(device), cat_features.to(device), labels.to(device)\n",
    "\n",
    "                output_val = model(q_input_ids = q_input_ids.long(),\n",
    "                             labels = None,\n",
    "                             q_attention_mask = q_input_masks,\n",
    "                             q_token_type_ids = q_input_segments,\n",
    "                             a_input_ids = a_input_ids.long(),\n",
    "                             a_attention_mask = a_input_masks,\n",
    "                             a_token_type_ids = a_input_segments,\n",
    "                             num_features = num_features,\n",
    "                             cat_features = cat_features,\n",
    "                            )\n",
    "            logits = output_val[0] #output preds\n",
    "            \n",
    "            avg_val_loss += criterion(logits, labels).item() / len(val_loader)\n",
    "            valid_preds[idx*batch_size : (idx+1)*batch_size] = logits.detach().cpu().squeeze().numpy()\n",
    "            original[idx*batch_size : (idx+1)*batch_size]    = labels.detach().cpu().squeeze().numpy()\n",
    "        \n",
    "        score = 0\n",
    "        preds = torch.sigmoid(torch.tensor(valid_preds)).numpy()\n",
    "        \n",
    "        # np.save(\"preds.npy\", preds)\n",
    "        # np.save(\"actuals.npy\", original)\n",
    "        \n",
    "        rho_val = np.mean([spearmanr(original[:, i], preds[:,i]).correlation for i in range(preds.shape[1])])\n",
    "        print('\\r val_spearman-rho: %s' % (str(round(rho_val, 5))), end = 100*' '+'\\n')\n",
    "        \n",
    "        for i in range(len(target_cols)):\n",
    "            #print(i, spearmanr(original[:,i], preds[:,i]))\n",
    "            score += np.nan_to_num(spearmanr(original[:, i], preds[:, i]).correlation)\n",
    "        \n",
    "    return avg_val_loss, score/len(target_cols)\n",
    "\n",
    "\n",
    "def predict_valid_result(model, val_loader, val_length, batch_size=32):\n",
    "\n",
    "    val_preds = np.zeros((val_length, len(target_cols)))\n",
    "    original = np.zeros((val_length, len(target_cols)))\n",
    "\n",
    "    model.eval()\n",
    "    tk0 = tqdm(enumerate(val_loader))\n",
    "    for idx, batch in tk0:\n",
    "        if COMBINE_INPUT:\n",
    "            input_ids, input_masks, input_segments, num_features, cat_features, labels, _ = batch\n",
    "            input_ids, input_masks, input_segments, num_features, cat_features, labels = input_ids.to(device), input_masks.to(device), input_segments.to(device), num_features.to(device), cat_features.to(device), labels.to(device)            \n",
    "            with torch.no_grad():\n",
    "                outputs = model(input_ids = input_ids.long(),\n",
    "                            labels = None,\n",
    "                            attention_mask = input_masks,\n",
    "                            token_type_ids = input_segments,\n",
    "                            num_features = num_features,\n",
    "                            cat_features = cat_features,\n",
    "                            )\n",
    "        else:\n",
    "            q_input_ids, q_input_masks, q_input_segments, a_input_ids, a_input_masks, a_input_segments, num_features, cat_features, labels, _ = batch\n",
    "            q_input_ids, q_input_masks, q_input_segments, a_input_ids, a_input_masks, a_input_segments, num_features, cat_features, labels = q_input_ids.to(device), q_input_masks.to(device), q_input_segments.to(device), a_input_ids.to(device), a_input_masks.to(device), a_input_segments.to(device), num_features.to(device), cat_features.to(device), labels.to(device)\n",
    "            with torch.no_grad():\n",
    "                outputs = model(q_input_ids = q_input_ids.long(),\n",
    "                             labels = None,\n",
    "                             q_attention_mask = q_input_masks,\n",
    "                             q_token_type_ids = q_input_segments,\n",
    "                             a_input_ids = a_input_ids.long(),\n",
    "                             a_attention_mask = a_input_masks,\n",
    "                             a_token_type_ids = a_input_segments,\n",
    "                             num_features = num_features,\n",
    "                             cat_features = cat_features,\n",
    "                            )\n",
    "\n",
    "        predictions = outputs[0]\n",
    "        val_preds[idx*batch_size : (idx+1)*batch_size] = predictions.detach().cpu().squeeze().numpy()\n",
    "        original[idx*batch_size : (idx+1)*batch_size] = labels.detach().cpu().squeeze().numpy()\n",
    "\n",
    "    output = torch.sigmoid(torch.tensor(val_preds)).numpy()\n",
    "    return output, original\n",
    "\n",
    "\n",
    "def predict_result(model, test_loader, test_length, batch_size=32):\n",
    "\n",
    "    test_preds = np.zeros((test_length, len(target_cols)))\n",
    "\n",
    "    model.eval()\n",
    "    tk0 = tqdm(enumerate(test_loader))\n",
    "    for idx, x_batch in tk0:\n",
    "        if COMBINE_INPUT:\n",
    "            with torch.no_grad():\n",
    "                outputs = model(input_ids = x_batch[0].to(device),\n",
    "                            labels = None,\n",
    "                            attention_mask = x_batch[1].to(device),\n",
    "                            token_type_ids = x_batch[2].to(device),\n",
    "                            num_features = x_batch[3].to(device),\n",
    "                            cat_features = x_batch[4].to(device),\n",
    "                           )\n",
    "        else:\n",
    "            with torch.no_grad():\n",
    "                outputs = model(q_input_ids = x_batch[0].to(device),\n",
    "                            labels = None,\n",
    "                            q_attention_mask = x_batch[1].to(device),\n",
    "                            q_token_type_ids = x_batch[2].to(device),\n",
    "                            a_input_ids = x_batch[3].to(device),\n",
    "                            a_attention_mask = x_batch[4].to(device),\n",
    "                            a_token_type_ids = x_batch[5].to(device),\n",
    "                            num_features = x_batch[6].to(device),\n",
    "                            cat_features = x_batch[7].to(device),\n",
    "                           )\n",
    "        predictions = outputs[0]\n",
    "        test_preds[idx*batch_size : (idx+1)*batch_size] = predictions.detach().cpu().squeeze().numpy()\n",
    "\n",
    "    output = torch.sigmoid(torch.tensor(test_preds)).numpy()\n",
    "    return output\n",
    "\n",
    "\n",
    "def add_features(df):\n",
    "    find = re.compile(r\"^[^.]*\")\n",
    "    df['netloc'] = df['url'].apply(lambda x: re.findall(find, urlparse(x).netloc)[0])\n",
    "    df['qa_same_user_page_flag'] = (df['question_user_page']==df['answer_user_page'])*1\n",
    "    df['question_title_num_words'] = df['question_title'].str.count('\\S+')\n",
    "    df['question_body_num_words'] = df['question_body'].str.count('\\S+')\n",
    "    df['answer_num_words'] = df['answer'].str.count('\\S+')\n",
    "    df['question_vs_answer_length'] = df['question_body_num_words']/df['answer_num_words']\n",
    "    df['question_title_num_words'] = np.log1p(df['question_title_num_words'])\n",
    "    df['question_body_num_words'] = np.log1p(df['question_body_num_words'])\n",
    "    df['answer_num_words'] = np.log1p(df['answer_num_words'])\n",
    "    df['question_vs_answer_length'] = np.log1p(df['question_vs_answer_length'])\n",
    "    return df\n",
    "\n",
    "\n",
    "def custom_loss(x, y):\n",
    "    bce_loss = nn.BCEWithLogitsLoss()(x, y)\n",
    "    return bce_loss\n",
    "\n",
    "\n",
    "def get_bert_features(model, val_loader, val_length, batch_size=32):\n",
    "\n",
    "    features = np.zeros((val_length, 768*2))\n",
    "\n",
    "    model.eval()\n",
    "    tk0 = tqdm(enumerate(val_loader))\n",
    "    for idx, batch in tk0:\n",
    "        if COMBINE_INPUT:\n",
    "            None\n",
    "        else:\n",
    "            q_input_ids, q_input_masks, q_input_segments, a_input_ids, a_input_masks, a_input_segments, num_features, cat_features, labels, _ = batch\n",
    "            q_input_ids, q_input_masks, q_input_segments, a_input_ids, a_input_masks, a_input_segments, num_features, cat_features, labels = q_input_ids.to(device), q_input_masks.to(device), q_input_segments.to(device), a_input_ids.to(device), a_input_masks.to(device), a_input_segments.to(device), num_features.to(device), cat_features.to(device), labels.to(device)\n",
    "            with torch.no_grad():\n",
    "                q_output = model.bert(q_input_ids.long(),\n",
    "                              attention_mask=q_input_masks,\n",
    "                              token_type_ids=q_input_segments,\n",
    "                              position_ids=None,\n",
    "                              head_mask=None,\n",
    "                              inputs_embeds=None,\n",
    "                            )\n",
    "                a_output = model.bert(a_input_ids.long(),\n",
    "                              attention_mask=a_input_masks,\n",
    "                              token_type_ids=a_input_segments,\n",
    "                              position_ids=None,\n",
    "                              head_mask=None,\n",
    "                              inputs_embeds=None,\n",
    "                            )\n",
    "        q_feature = q_output[1].detach().cpu().squeeze().numpy()\n",
    "        a_feature = a_output[1].detach().cpu().squeeze().numpy()\n",
    "        features[idx*batch_size : (idx+1)*batch_size] = np.hstack([q_feature, a_feature])\n",
    "\n",
    "    return features\n",
    "\n",
    "\n",
    "def get_test_bert_features(model, val_loader, val_length, batch_size=32):\n",
    "\n",
    "    features = np.zeros((val_length, 768*2))\n",
    "\n",
    "    model.eval()\n",
    "    tk0 = tqdm(enumerate(val_loader))\n",
    "    for idx, batch in tk0:\n",
    "        if COMBINE_INPUT:\n",
    "            None\n",
    "        else:\n",
    "            q_input_ids, q_input_masks, q_input_segments, a_input_ids, a_input_masks, a_input_segments, num_features, cat_features, _ = batch\n",
    "            q_input_ids, q_input_masks, q_input_segments, a_input_ids, a_input_masks, a_input_segments, num_features, cat_features = q_input_ids.to(device), q_input_masks.to(device), q_input_segments.to(device), a_input_ids.to(device), a_input_masks.to(device), a_input_segments.to(device), num_features.to(device), cat_features.to(device)\n",
    "            with torch.no_grad():\n",
    "                q_output = model.bert(q_input_ids.long(),\n",
    "                              attention_mask=q_input_masks,\n",
    "                              token_type_ids=q_input_segments,\n",
    "                              position_ids=None,\n",
    "                              head_mask=None,\n",
    "                              inputs_embeds=None,\n",
    "                            )\n",
    "                a_output = model.bert(a_input_ids.long(),\n",
    "                              attention_mask=a_input_masks,\n",
    "                              token_type_ids=a_input_segments,\n",
    "                              position_ids=None,\n",
    "                              head_mask=None,\n",
    "                              inputs_embeds=None,\n",
    "                            )\n",
    "        q_feature = q_output[1].detach().cpu().squeeze().numpy()\n",
    "        a_feature = a_output[1].detach().cpu().squeeze().numpy()\n",
    "        features[idx*batch_size : (idx+1)*batch_size] = np.hstack([q_feature, a_feature])\n",
    "\n",
    "    return features\n",
    "\n",
    "\n",
    "#===========================================================\n",
    "# main\n",
    "#===========================================================\n",
    "if True:\n",
    "    \n",
    "    with timer('Data Loading'):\n",
    "        train = pd.read_csv(f\"{ROOT}train.csv\").fillna(\"none\")\n",
    "        y_train = train[target_cols].values\n",
    "        if config.test:\n",
    "            test = pd.read_csv(f\"{ROOT}test.csv\").fillna(\"none\")\n",
    "            submission = pd.read_csv(f\"{ROOT}sample_submission.csv\")\n",
    "    \n",
    "    with timer('Num features'):\n",
    "        train = add_features(train)\n",
    "        if config.test:\n",
    "            test = add_features(test)\n",
    "        num_features = ['question_title_num_words', 'question_body_num_words', 'answer_num_words', 'question_vs_answer_length']\n",
    "        train_num = train[num_features].values\n",
    "        if config.test:\n",
    "            test_num = test[num_features].values\n",
    "                \n",
    "    with timer('Cat features'):\n",
    "        cat_features = ['netloc', 'category', 'qa_same_user_page_flag']\n",
    "        ce_oe = ce.OrdinalEncoder(cols=cat_features, handle_unknown='return_nan')\n",
    "        ce_oe.fit(train[cat_features])\n",
    "        train_cat_df = ce_oe.transform(train[cat_features])\n",
    "        test_cat_df = ce_oe.transform(test[cat_features]).fillna(0).astype(int)\n",
    "        for c in cat_features:\n",
    "            train[c] = train_cat_df[c]\n",
    "            test[c] = test[c]\n",
    "        train_cat = train_cat_df.values\n",
    "        test_cat = test_cat_df.values\n",
    "        cat_dims = []\n",
    "        for col in cat_features:\n",
    "            dim = train[col].nunique()\n",
    "            cat_dims.append((dim+1, dim//2+1))\n",
    "        print(cat_dims)"
   ]
  },
  {
   "cell_type": "code",
   "execution_count": 2,
   "metadata": {},
   "outputs": [],
   "source": [
    "import lightgbm as lgb\n",
    "from sklearn.metrics import mean_squared_error\n",
    "import matplotlib.pyplot as plt\n",
    "import seaborn as sns\n",
    "import pickle\n",
    "\n",
    "\n",
    "def min_max(x, axis=None):\n",
    "    _min = x.min(axis=axis, keepdims=True)\n",
    "    _max = x.max(axis=axis, keepdims=True)\n",
    "    result = (x-_min)/(_max-_min)\n",
    "    return result\n",
    "\n",
    "\n",
    "def custom_eval(y_pred, data):\n",
    "    y_true = data.get_label()\n",
    "    y_pred = y_pred.reshape(-1)\n",
    "    #N_LABELS = 9\n",
    "    #y_pred = y_pred.reshape(N_LABELS, len(y_preds) // N_LABELS)\n",
    "    score = spearmanr(y_true, y_pred).correlation\n",
    "    return 'spearmanr', score, True # name, result, is_higher_better\n",
    "\n",
    "def run_single_lightgbm(param, train_df, test_df, folds, features, target, fold_num=0, categorical=[], target_col=''):\n",
    "    \n",
    "    trn_idx = folds[folds.fold != fold_num].index\n",
    "    val_idx = folds[folds.fold == fold_num].index\n",
    "    logger.info(f'len(trn_idx) : {len(trn_idx)}')\n",
    "    logger.info(f'len(val_idx) : {len(val_idx)}')\n",
    "    \n",
    "    if categorical == []:\n",
    "        trn_data = lgb.Dataset(train_df.iloc[trn_idx][features],\n",
    "                               label=target.iloc[trn_idx])\n",
    "        val_data = lgb.Dataset(train_df.iloc[val_idx][features],\n",
    "                               label=target.iloc[val_idx])\n",
    "    else:\n",
    "        trn_data = lgb.Dataset(train_df.iloc[trn_idx][features],\n",
    "                               label=target.iloc[trn_idx],\n",
    "                               categorical_feature=categorical)\n",
    "        val_data = lgb.Dataset(train_df.iloc[val_idx][features],\n",
    "                               label=target.iloc[val_idx],\n",
    "                               categorical_feature=categorical)\n",
    "\n",
    "    oof = np.zeros(len(train_df))\n",
    "    predictions = np.zeros(len(test_df))\n",
    "\n",
    "    num_round = 10000\n",
    "\n",
    "    clf = lgb.train(param,\n",
    "                    trn_data,\n",
    "                    num_round,\n",
    "                    valid_sets=[trn_data, val_data],\n",
    "                    verbose_eval=1000,\n",
    "                    early_stopping_rounds=100,\n",
    "                    #feval=custom_eval,\n",
    "                   )\n",
    "    \n",
    "    logger.info(f'Dumping model with pickle... {target_col}_lightgbm_fold{fold_num}.pkl')\n",
    "    with open(f'{target_col}_lightgbm_fold{fold_num}.pkl', 'wb') as fout:\n",
    "        pickle.dump(clf, fout)\n",
    "\n",
    "    oof[val_idx] = clf.predict(train_df.iloc[val_idx][features], num_iteration=clf.best_iteration)\n",
    "    oof[val_idx] = min_max(oof[val_idx], axis=None)\n",
    "\n",
    "    fold_importance_df = pd.DataFrame()\n",
    "    fold_importance_df[\"Feature\"] = features\n",
    "    fold_importance_df[\"importance\"] = clf.feature_importance(importance_type='gain')\n",
    "    fold_importance_df[\"fold\"] = fold_num\n",
    "\n",
    "    #predictions += clf.predict(test_df[features], num_iteration=clf.best_iteration)\n",
    "    \n",
    "    # spearmanr\n",
    "    rho_val = spearmanr(target[val_idx], oof[val_idx]).correlation\n",
    "    logger.info(f'spearmanr: {rho_val}')\n",
    "    \n",
    "    return oof, predictions, fold_importance_df"
   ]
  },
  {
   "cell_type": "code",
   "execution_count": 3,
   "metadata": {},
   "outputs": [
    {
     "name": "stderr",
     "output_type": "stream",
     "text": [
      "============================================================================\n",
      "target: question_asker_intent_understanding  nn CV spearmanr: 0.35272149968282696\n",
      "============================================================================\n",
      "len(trn_idx) : 4866\n",
      "len(val_idx) : 1213\n"
     ]
    },
    {
     "name": "stdout",
     "output_type": "stream",
     "text": [
      "Training until validation scores don't improve for 100 rounds\n"
     ]
    },
    {
     "name": "stderr",
     "output_type": "stream",
     "text": [
      "Dumping model with pickle... question_asker_intent_understanding_lightgbm_fold0.pkl\n"
     ]
    },
    {
     "name": "stdout",
     "output_type": "stream",
     "text": [
      "Early stopping, best iteration is:\n",
      "[188]\ttraining's rmse: 0.109672\tvalid_1's rmse: 0.124939\n"
     ]
    },
    {
     "name": "stderr",
     "output_type": "stream",
     "text": [
      "spearmanr: 0.3893010387900006\n",
      "len(trn_idx) : 4866\n",
      "len(val_idx) : 1213\n"
     ]
    },
    {
     "name": "stdout",
     "output_type": "stream",
     "text": [
      "Training until validation scores don't improve for 100 rounds\n"
     ]
    },
    {
     "name": "stderr",
     "output_type": "stream",
     "text": [
      "Dumping model with pickle... question_asker_intent_understanding_lightgbm_fold1.pkl\n"
     ]
    },
    {
     "name": "stdout",
     "output_type": "stream",
     "text": [
      "Early stopping, best iteration is:\n",
      "[242]\ttraining's rmse: 0.105915\tvalid_1's rmse: 0.124067\n"
     ]
    },
    {
     "name": "stderr",
     "output_type": "stream",
     "text": [
      "spearmanr: 0.3814032517713066\n",
      "len(trn_idx) : 4862\n",
      "len(val_idx) : 1217\n"
     ]
    },
    {
     "name": "stdout",
     "output_type": "stream",
     "text": [
      "Training until validation scores don't improve for 100 rounds\n"
     ]
    },
    {
     "name": "stderr",
     "output_type": "stream",
     "text": [
      "Dumping model with pickle... question_asker_intent_understanding_lightgbm_fold2.pkl\n"
     ]
    },
    {
     "name": "stdout",
     "output_type": "stream",
     "text": [
      "Early stopping, best iteration is:\n",
      "[174]\ttraining's rmse: 0.110966\tvalid_1's rmse: 0.123404\n"
     ]
    },
    {
     "name": "stderr",
     "output_type": "stream",
     "text": [
      "spearmanr: 0.36768401565867465\n",
      "len(trn_idx) : 4866\n",
      "len(val_idx) : 1213\n"
     ]
    },
    {
     "name": "stdout",
     "output_type": "stream",
     "text": [
      "Training until validation scores don't improve for 100 rounds\n"
     ]
    },
    {
     "name": "stderr",
     "output_type": "stream",
     "text": [
      "Dumping model with pickle... question_asker_intent_understanding_lightgbm_fold3.pkl\n"
     ]
    },
    {
     "name": "stdout",
     "output_type": "stream",
     "text": [
      "Early stopping, best iteration is:\n",
      "[188]\ttraining's rmse: 0.108979\tvalid_1's rmse: 0.122431\n"
     ]
    },
    {
     "name": "stderr",
     "output_type": "stream",
     "text": [
      "spearmanr: 0.3626345300247165\n",
      "len(trn_idx) : 4856\n",
      "len(val_idx) : 1223\n"
     ]
    },
    {
     "name": "stdout",
     "output_type": "stream",
     "text": [
      "Training until validation scores don't improve for 100 rounds\n"
     ]
    },
    {
     "name": "stderr",
     "output_type": "stream",
     "text": [
      "Dumping model with pickle... question_asker_intent_understanding_lightgbm_fold4.pkl\n"
     ]
    },
    {
     "name": "stdout",
     "output_type": "stream",
     "text": [
      "Early stopping, best iteration is:\n",
      "[128]\ttraining's rmse: 0.111229\tvalid_1's rmse: 0.127046\n"
     ]
    },
    {
     "name": "stderr",
     "output_type": "stream",
     "text": [
      "spearmanr: 0.33805834504396215\n",
      "============================================================================\n",
      "target: question_asker_intent_understanding  LGB CV spearmanr: 0.3655179611547559\n",
      "============================================================================\n",
      "============================================================================\n",
      "target: question_body_critical  nn CV spearmanr: 0.6310448454525829\n",
      "============================================================================\n",
      "len(trn_idx) : 4866\n",
      "len(val_idx) : 1213\n"
     ]
    },
    {
     "name": "stdout",
     "output_type": "stream",
     "text": [
      "Training until validation scores don't improve for 100 rounds\n"
     ]
    },
    {
     "name": "stderr",
     "output_type": "stream",
     "text": [
      "Dumping model with pickle... question_body_critical_lightgbm_fold0.pkl\n"
     ]
    },
    {
     "name": "stdout",
     "output_type": "stream",
     "text": [
      "Early stopping, best iteration is:\n",
      "[349]\ttraining's rmse: 0.135407\tvalid_1's rmse: 0.165539\n"
     ]
    },
    {
     "name": "stderr",
     "output_type": "stream",
     "text": [
      "spearmanr: 0.669525713887459\n",
      "len(trn_idx) : 4866\n",
      "len(val_idx) : 1213\n"
     ]
    },
    {
     "name": "stdout",
     "output_type": "stream",
     "text": [
      "Training until validation scores don't improve for 100 rounds\n"
     ]
    },
    {
     "name": "stderr",
     "output_type": "stream",
     "text": [
      "Dumping model with pickle... question_body_critical_lightgbm_fold1.pkl\n"
     ]
    },
    {
     "name": "stdout",
     "output_type": "stream",
     "text": [
      "Early stopping, best iteration is:\n",
      "[430]\ttraining's rmse: 0.129765\tvalid_1's rmse: 0.156598\n"
     ]
    },
    {
     "name": "stderr",
     "output_type": "stream",
     "text": [
      "spearmanr: 0.6808737809437033\n",
      "len(trn_idx) : 4862\n",
      "len(val_idx) : 1217\n"
     ]
    },
    {
     "name": "stdout",
     "output_type": "stream",
     "text": [
      "Training until validation scores don't improve for 100 rounds\n"
     ]
    },
    {
     "name": "stderr",
     "output_type": "stream",
     "text": [
      "Dumping model with pickle... question_body_critical_lightgbm_fold2.pkl\n"
     ]
    },
    {
     "name": "stdout",
     "output_type": "stream",
     "text": [
      "Early stopping, best iteration is:\n",
      "[556]\ttraining's rmse: 0.13003\tvalid_1's rmse: 0.167299\n"
     ]
    },
    {
     "name": "stderr",
     "output_type": "stream",
     "text": [
      "spearmanr: 0.6383574255306147\n",
      "len(trn_idx) : 4866\n",
      "len(val_idx) : 1213\n"
     ]
    },
    {
     "name": "stdout",
     "output_type": "stream",
     "text": [
      "Training until validation scores don't improve for 100 rounds\n"
     ]
    },
    {
     "name": "stderr",
     "output_type": "stream",
     "text": [
      "Dumping model with pickle... question_body_critical_lightgbm_fold3.pkl\n"
     ]
    },
    {
     "name": "stdout",
     "output_type": "stream",
     "text": [
      "Early stopping, best iteration is:\n",
      "[811]\ttraining's rmse: 0.123313\tvalid_1's rmse: 0.160352\n"
     ]
    },
    {
     "name": "stderr",
     "output_type": "stream",
     "text": [
      "spearmanr: 0.6876147321860442\n",
      "len(trn_idx) : 4856\n",
      "len(val_idx) : 1223\n"
     ]
    },
    {
     "name": "stdout",
     "output_type": "stream",
     "text": [
      "Training until validation scores don't improve for 100 rounds\n"
     ]
    },
    {
     "name": "stderr",
     "output_type": "stream",
     "text": [
      "Dumping model with pickle... question_body_critical_lightgbm_fold4.pkl\n"
     ]
    },
    {
     "name": "stdout",
     "output_type": "stream",
     "text": [
      "Early stopping, best iteration is:\n",
      "[298]\ttraining's rmse: 0.132499\tvalid_1's rmse: 0.16168\n"
     ]
    },
    {
     "name": "stderr",
     "output_type": "stream",
     "text": [
      "spearmanr: 0.6608076055891876\n",
      "============================================================================\n",
      "target: question_body_critical  LGB CV spearmanr: 0.6657997861335051\n",
      "============================================================================\n",
      "============================================================================\n",
      "target: question_conversational  nn CV spearmanr: 0.40724620854813304\n",
      "============================================================================\n",
      "len(trn_idx) : 4866\n",
      "len(val_idx) : 1213\n"
     ]
    },
    {
     "name": "stdout",
     "output_type": "stream",
     "text": [
      "Training until validation scores don't improve for 100 rounds\n"
     ]
    },
    {
     "name": "stderr",
     "output_type": "stream",
     "text": [
      "Dumping model with pickle... question_conversational_lightgbm_fold0.pkl\n"
     ]
    },
    {
     "name": "stdout",
     "output_type": "stream",
     "text": [
      "Early stopping, best iteration is:\n",
      "[252]\ttraining's rmse: 0.108069\tvalid_1's rmse: 0.148218\n"
     ]
    },
    {
     "name": "stderr",
     "output_type": "stream",
     "text": [
      "spearmanr: 0.4005496983840483\n",
      "len(trn_idx) : 4866\n",
      "len(val_idx) : 1213\n"
     ]
    },
    {
     "name": "stdout",
     "output_type": "stream",
     "text": [
      "Training until validation scores don't improve for 100 rounds\n"
     ]
    },
    {
     "name": "stderr",
     "output_type": "stream",
     "text": [
      "Dumping model with pickle... question_conversational_lightgbm_fold1.pkl\n"
     ]
    },
    {
     "name": "stdout",
     "output_type": "stream",
     "text": [
      "Early stopping, best iteration is:\n",
      "[200]\ttraining's rmse: 0.102606\tvalid_1's rmse: 0.151977\n"
     ]
    },
    {
     "name": "stderr",
     "output_type": "stream",
     "text": [
      "spearmanr: 0.42601024804893206\n",
      "len(trn_idx) : 4862\n",
      "len(val_idx) : 1217\n"
     ]
    },
    {
     "name": "stdout",
     "output_type": "stream",
     "text": [
      "Training until validation scores don't improve for 100 rounds\n"
     ]
    },
    {
     "name": "stderr",
     "output_type": "stream",
     "text": [
      "Dumping model with pickle... question_conversational_lightgbm_fold2.pkl\n"
     ]
    },
    {
     "name": "stdout",
     "output_type": "stream",
     "text": [
      "Early stopping, best iteration is:\n",
      "[280]\ttraining's rmse: 0.101086\tvalid_1's rmse: 0.149329\n"
     ]
    },
    {
     "name": "stderr",
     "output_type": "stream",
     "text": [
      "spearmanr: 0.4229833877765825\n",
      "len(trn_idx) : 4866\n",
      "len(val_idx) : 1213\n"
     ]
    },
    {
     "name": "stdout",
     "output_type": "stream",
     "text": [
      "Training until validation scores don't improve for 100 rounds\n"
     ]
    },
    {
     "name": "stderr",
     "output_type": "stream",
     "text": [
      "Dumping model with pickle... question_conversational_lightgbm_fold3.pkl\n"
     ]
    },
    {
     "name": "stdout",
     "output_type": "stream",
     "text": [
      "Early stopping, best iteration is:\n",
      "[137]\ttraining's rmse: 0.114718\tvalid_1's rmse: 0.162227\n"
     ]
    },
    {
     "name": "stderr",
     "output_type": "stream",
     "text": [
      "spearmanr: 0.37597832470691966\n",
      "len(trn_idx) : 4856\n",
      "len(val_idx) : 1223\n"
     ]
    },
    {
     "name": "stdout",
     "output_type": "stream",
     "text": [
      "Training until validation scores don't improve for 100 rounds\n"
     ]
    },
    {
     "name": "stderr",
     "output_type": "stream",
     "text": [
      "Dumping model with pickle... question_conversational_lightgbm_fold4.pkl\n"
     ]
    },
    {
     "name": "stdout",
     "output_type": "stream",
     "text": [
      "Early stopping, best iteration is:\n",
      "[138]\ttraining's rmse: 0.112855\tvalid_1's rmse: 0.150235\n"
     ]
    },
    {
     "name": "stderr",
     "output_type": "stream",
     "text": [
      "spearmanr: 0.40384357721256475\n",
      "============================================================================\n",
      "target: question_conversational  LGB CV spearmanr: 0.40531555972746136\n",
      "============================================================================\n",
      "============================================================================\n",
      "target: question_expect_short_answer  nn CV spearmanr: 0.2947432826632471\n",
      "============================================================================\n",
      "len(trn_idx) : 4866\n",
      "len(val_idx) : 1213\n"
     ]
    },
    {
     "name": "stdout",
     "output_type": "stream",
     "text": [
      "Training until validation scores don't improve for 100 rounds\n"
     ]
    },
    {
     "name": "stderr",
     "output_type": "stream",
     "text": [
      "Dumping model with pickle... question_expect_short_answer_lightgbm_fold0.pkl\n"
     ]
    },
    {
     "name": "stdout",
     "output_type": "stream",
     "text": [
      "Early stopping, best iteration is:\n",
      "[132]\ttraining's rmse: 0.291263\tvalid_1's rmse: 0.338403\n"
     ]
    },
    {
     "name": "stderr",
     "output_type": "stream",
     "text": [
      "spearmanr: 0.2702066139677961\n",
      "len(trn_idx) : 4866\n",
      "len(val_idx) : 1213\n"
     ]
    },
    {
     "name": "stdout",
     "output_type": "stream",
     "text": [
      "Training until validation scores don't improve for 100 rounds\n"
     ]
    },
    {
     "name": "stderr",
     "output_type": "stream",
     "text": [
      "Dumping model with pickle... question_expect_short_answer_lightgbm_fold1.pkl\n"
     ]
    },
    {
     "name": "stdout",
     "output_type": "stream",
     "text": [
      "Early stopping, best iteration is:\n",
      "[96]\ttraining's rmse: 0.290591\tvalid_1's rmse: 0.335926\n"
     ]
    },
    {
     "name": "stderr",
     "output_type": "stream",
     "text": [
      "spearmanr: 0.2553672444338537\n",
      "len(trn_idx) : 4862\n",
      "len(val_idx) : 1217\n"
     ]
    },
    {
     "name": "stdout",
     "output_type": "stream",
     "text": [
      "Training until validation scores don't improve for 100 rounds\n"
     ]
    },
    {
     "name": "stderr",
     "output_type": "stream",
     "text": [
      "Dumping model with pickle... question_expect_short_answer_lightgbm_fold2.pkl\n"
     ]
    },
    {
     "name": "stdout",
     "output_type": "stream",
     "text": [
      "Early stopping, best iteration is:\n",
      "[117]\ttraining's rmse: 0.290816\tvalid_1's rmse: 0.333005\n"
     ]
    },
    {
     "name": "stderr",
     "output_type": "stream",
     "text": [
      "spearmanr: 0.2721961665838419\n",
      "len(trn_idx) : 4866\n",
      "len(val_idx) : 1213\n"
     ]
    },
    {
     "name": "stdout",
     "output_type": "stream",
     "text": [
      "Training until validation scores don't improve for 100 rounds\n"
     ]
    },
    {
     "name": "stderr",
     "output_type": "stream",
     "text": [
      "Dumping model with pickle... question_expect_short_answer_lightgbm_fold3.pkl\n"
     ]
    },
    {
     "name": "stdout",
     "output_type": "stream",
     "text": [
      "Early stopping, best iteration is:\n",
      "[104]\ttraining's rmse: 0.289715\tvalid_1's rmse: 0.329489\n"
     ]
    },
    {
     "name": "stderr",
     "output_type": "stream",
     "text": [
      "spearmanr: 0.30709112643321174\n",
      "len(trn_idx) : 4856\n",
      "len(val_idx) : 1223\n"
     ]
    },
    {
     "name": "stdout",
     "output_type": "stream",
     "text": [
      "Training until validation scores don't improve for 100 rounds\n"
     ]
    },
    {
     "name": "stderr",
     "output_type": "stream",
     "text": [
      "Dumping model with pickle... question_expect_short_answer_lightgbm_fold4.pkl\n"
     ]
    },
    {
     "name": "stdout",
     "output_type": "stream",
     "text": [
      "Early stopping, best iteration is:\n",
      "[117]\ttraining's rmse: 0.285476\tvalid_1's rmse: 0.337901\n"
     ]
    },
    {
     "name": "stderr",
     "output_type": "stream",
     "text": [
      "spearmanr: 0.3011718946475743\n",
      "============================================================================\n",
      "target: question_expect_short_answer  LGB CV spearmanr: 0.2793283309889512\n",
      "============================================================================\n",
      "============================================================================\n",
      "target: question_fact_seeking  nn CV spearmanr: 0.35960657835375814\n",
      "============================================================================\n",
      "len(trn_idx) : 4866\n",
      "len(val_idx) : 1213\n"
     ]
    },
    {
     "name": "stdout",
     "output_type": "stream",
     "text": [
      "Training until validation scores don't improve for 100 rounds\n"
     ]
    },
    {
     "name": "stderr",
     "output_type": "stream",
     "text": [
      "Dumping model with pickle... question_fact_seeking_lightgbm_fold0.pkl\n"
     ]
    },
    {
     "name": "stdout",
     "output_type": "stream",
     "text": [
      "Early stopping, best iteration is:\n",
      "[143]\ttraining's rmse: 0.226762\tvalid_1's rmse: 0.270874\n"
     ]
    },
    {
     "name": "stderr",
     "output_type": "stream",
     "text": [
      "spearmanr: 0.3274753803277713\n",
      "len(trn_idx) : 4866\n",
      "len(val_idx) : 1213\n"
     ]
    },
    {
     "name": "stdout",
     "output_type": "stream",
     "text": [
      "Training until validation scores don't improve for 100 rounds\n"
     ]
    },
    {
     "name": "stderr",
     "output_type": "stream",
     "text": [
      "Dumping model with pickle... question_fact_seeking_lightgbm_fold1.pkl\n"
     ]
    },
    {
     "name": "stdout",
     "output_type": "stream",
     "text": [
      "Early stopping, best iteration is:\n",
      "[137]\ttraining's rmse: 0.201151\tvalid_1's rmse: 0.275797\n"
     ]
    },
    {
     "name": "stderr",
     "output_type": "stream",
     "text": [
      "spearmanr: 0.3545193091195113\n",
      "len(trn_idx) : 4862\n",
      "len(val_idx) : 1217\n"
     ]
    },
    {
     "name": "stdout",
     "output_type": "stream",
     "text": [
      "Training until validation scores don't improve for 100 rounds\n"
     ]
    },
    {
     "name": "stderr",
     "output_type": "stream",
     "text": [
      "Dumping model with pickle... question_fact_seeking_lightgbm_fold2.pkl\n"
     ]
    },
    {
     "name": "stdout",
     "output_type": "stream",
     "text": [
      "Early stopping, best iteration is:\n",
      "[204]\ttraining's rmse: 0.204561\tvalid_1's rmse: 0.263649\n"
     ]
    },
    {
     "name": "stderr",
     "output_type": "stream",
     "text": [
      "spearmanr: 0.3818821634820316\n",
      "len(trn_idx) : 4866\n",
      "len(val_idx) : 1213\n"
     ]
    },
    {
     "name": "stdout",
     "output_type": "stream",
     "text": [
      "Training until validation scores don't improve for 100 rounds\n"
     ]
    },
    {
     "name": "stderr",
     "output_type": "stream",
     "text": [
      "Dumping model with pickle... question_fact_seeking_lightgbm_fold3.pkl\n"
     ]
    },
    {
     "name": "stdout",
     "output_type": "stream",
     "text": [
      "Early stopping, best iteration is:\n",
      "[107]\ttraining's rmse: 0.220455\tvalid_1's rmse: 0.274637\n"
     ]
    },
    {
     "name": "stderr",
     "output_type": "stream",
     "text": [
      "spearmanr: 0.3061865452494625\n",
      "len(trn_idx) : 4856\n",
      "len(val_idx) : 1223\n"
     ]
    },
    {
     "name": "stdout",
     "output_type": "stream",
     "text": [
      "Training until validation scores don't improve for 100 rounds\n"
     ]
    },
    {
     "name": "stderr",
     "output_type": "stream",
     "text": [
      "Dumping model with pickle... question_fact_seeking_lightgbm_fold4.pkl\n"
     ]
    },
    {
     "name": "stdout",
     "output_type": "stream",
     "text": [
      "Early stopping, best iteration is:\n",
      "[130]\ttraining's rmse: 0.212329\tvalid_1's rmse: 0.265411\n"
     ]
    },
    {
     "name": "stderr",
     "output_type": "stream",
     "text": [
      "spearmanr: 0.38155127649735204\n",
      "============================================================================\n",
      "target: question_fact_seeking  LGB CV spearmanr: 0.35046349431347457\n",
      "============================================================================\n",
      "============================================================================\n",
      "target: question_has_commonly_accepted_answer  nn CV spearmanr: 0.42520836740004325\n",
      "============================================================================\n",
      "len(trn_idx) : 4866\n",
      "len(val_idx) : 1213\n"
     ]
    },
    {
     "name": "stdout",
     "output_type": "stream",
     "text": [
      "Training until validation scores don't improve for 100 rounds\n"
     ]
    },
    {
     "name": "stderr",
     "output_type": "stream",
     "text": [
      "Dumping model with pickle... question_has_commonly_accepted_answer_lightgbm_fold0.pkl\n"
     ]
    },
    {
     "name": "stdout",
     "output_type": "stream",
     "text": [
      "Early stopping, best iteration is:\n",
      "[210]\ttraining's rmse: 0.220993\tvalid_1's rmse: 0.279625\n"
     ]
    },
    {
     "name": "stderr",
     "output_type": "stream",
     "text": [
      "spearmanr: 0.401764336180574\n",
      "len(trn_idx) : 4866\n",
      "len(val_idx) : 1213\n"
     ]
    },
    {
     "name": "stdout",
     "output_type": "stream",
     "text": [
      "Training until validation scores don't improve for 100 rounds\n"
     ]
    },
    {
     "name": "stderr",
     "output_type": "stream",
     "text": [
      "Dumping model with pickle... question_has_commonly_accepted_answer_lightgbm_fold1.pkl\n"
     ]
    },
    {
     "name": "stdout",
     "output_type": "stream",
     "text": [
      "Early stopping, best iteration is:\n",
      "[132]\ttraining's rmse: 0.222092\tvalid_1's rmse: 0.293553\n"
     ]
    },
    {
     "name": "stderr",
     "output_type": "stream",
     "text": [
      "spearmanr: 0.3798958205460056\n",
      "len(trn_idx) : 4862\n",
      "len(val_idx) : 1217\n"
     ]
    },
    {
     "name": "stdout",
     "output_type": "stream",
     "text": [
      "Training until validation scores don't improve for 100 rounds\n"
     ]
    },
    {
     "name": "stderr",
     "output_type": "stream",
     "text": [
      "Dumping model with pickle... question_has_commonly_accepted_answer_lightgbm_fold2.pkl\n"
     ]
    },
    {
     "name": "stdout",
     "output_type": "stream",
     "text": [
      "Early stopping, best iteration is:\n",
      "[229]\ttraining's rmse: 0.216817\tvalid_1's rmse: 0.274484\n"
     ]
    },
    {
     "name": "stderr",
     "output_type": "stream",
     "text": [
      "spearmanr: 0.43471614394628794\n",
      "len(trn_idx) : 4866\n",
      "len(val_idx) : 1213\n"
     ]
    },
    {
     "name": "stdout",
     "output_type": "stream",
     "text": [
      "Training until validation scores don't improve for 100 rounds\n"
     ]
    },
    {
     "name": "stderr",
     "output_type": "stream",
     "text": [
      "Dumping model with pickle... question_has_commonly_accepted_answer_lightgbm_fold3.pkl\n"
     ]
    },
    {
     "name": "stdout",
     "output_type": "stream",
     "text": [
      "Early stopping, best iteration is:\n",
      "[179]\ttraining's rmse: 0.215248\tvalid_1's rmse: 0.28188\n"
     ]
    },
    {
     "name": "stderr",
     "output_type": "stream",
     "text": [
      "spearmanr: 0.43787140676463093\n",
      "len(trn_idx) : 4856\n",
      "len(val_idx) : 1223\n"
     ]
    },
    {
     "name": "stdout",
     "output_type": "stream",
     "text": [
      "Training until validation scores don't improve for 100 rounds\n"
     ]
    },
    {
     "name": "stderr",
     "output_type": "stream",
     "text": [
      "Dumping model with pickle... question_has_commonly_accepted_answer_lightgbm_fold4.pkl\n"
     ]
    },
    {
     "name": "stdout",
     "output_type": "stream",
     "text": [
      "Early stopping, best iteration is:\n",
      "[160]\ttraining's rmse: 0.21901\tvalid_1's rmse: 0.287994\n"
     ]
    },
    {
     "name": "stderr",
     "output_type": "stream",
     "text": [
      "spearmanr: 0.4105396773400686\n",
      "============================================================================\n",
      "target: question_has_commonly_accepted_answer  LGB CV spearmanr: 0.4125546774843141\n",
      "============================================================================\n",
      "============================================================================\n",
      "target: question_interestingness_others  nn CV spearmanr: 0.32590525566632256\n",
      "============================================================================\n",
      "len(trn_idx) : 4866\n",
      "len(val_idx) : 1213\n"
     ]
    },
    {
     "name": "stdout",
     "output_type": "stream",
     "text": [
      "Training until validation scores don't improve for 100 rounds\n"
     ]
    },
    {
     "name": "stderr",
     "output_type": "stream",
     "text": [
      "Dumping model with pickle... question_interestingness_others_lightgbm_fold0.pkl\n"
     ]
    },
    {
     "name": "stdout",
     "output_type": "stream",
     "text": [
      "Early stopping, best iteration is:\n",
      "[478]\ttraining's rmse: 0.115678\tvalid_1's rmse: 0.130379\n"
     ]
    },
    {
     "name": "stderr",
     "output_type": "stream",
     "text": [
      "spearmanr: 0.406518747328264\n",
      "len(trn_idx) : 4866\n",
      "len(val_idx) : 1213\n"
     ]
    },
    {
     "name": "stdout",
     "output_type": "stream",
     "text": [
      "Training until validation scores don't improve for 100 rounds\n"
     ]
    },
    {
     "name": "stderr",
     "output_type": "stream",
     "text": [
      "Dumping model with pickle... question_interestingness_others_lightgbm_fold1.pkl\n"
     ]
    },
    {
     "name": "stdout",
     "output_type": "stream",
     "text": [
      "Early stopping, best iteration is:\n",
      "[388]\ttraining's rmse: 0.114926\tvalid_1's rmse: 0.127492\n"
     ]
    },
    {
     "name": "stderr",
     "output_type": "stream",
     "text": [
      "spearmanr: 0.3513466724985046\n",
      "len(trn_idx) : 4862\n",
      "len(val_idx) : 1217\n"
     ]
    },
    {
     "name": "stdout",
     "output_type": "stream",
     "text": [
      "Training until validation scores don't improve for 100 rounds\n"
     ]
    },
    {
     "name": "stderr",
     "output_type": "stream",
     "text": [
      "Dumping model with pickle... question_interestingness_others_lightgbm_fold2.pkl\n"
     ]
    },
    {
     "name": "stdout",
     "output_type": "stream",
     "text": [
      "Early stopping, best iteration is:\n",
      "[264]\ttraining's rmse: 0.118696\tvalid_1's rmse: 0.122932\n"
     ]
    },
    {
     "name": "stderr",
     "output_type": "stream",
     "text": [
      "spearmanr: 0.3567768434231511\n",
      "len(trn_idx) : 4866\n",
      "len(val_idx) : 1213\n"
     ]
    },
    {
     "name": "stdout",
     "output_type": "stream",
     "text": [
      "Training until validation scores don't improve for 100 rounds\n"
     ]
    },
    {
     "name": "stderr",
     "output_type": "stream",
     "text": [
      "Dumping model with pickle... question_interestingness_others_lightgbm_fold3.pkl\n"
     ]
    },
    {
     "name": "stdout",
     "output_type": "stream",
     "text": [
      "Early stopping, best iteration is:\n",
      "[201]\ttraining's rmse: 0.118109\tvalid_1's rmse: 0.124527\n"
     ]
    },
    {
     "name": "stderr",
     "output_type": "stream",
     "text": [
      "spearmanr: 0.3185603579197082\n",
      "len(trn_idx) : 4856\n",
      "len(val_idx) : 1223\n"
     ]
    },
    {
     "name": "stdout",
     "output_type": "stream",
     "text": [
      "Training until validation scores don't improve for 100 rounds\n"
     ]
    },
    {
     "name": "stderr",
     "output_type": "stream",
     "text": [
      "Dumping model with pickle... question_interestingness_others_lightgbm_fold4.pkl\n"
     ]
    },
    {
     "name": "stdout",
     "output_type": "stream",
     "text": [
      "Early stopping, best iteration is:\n",
      "[340]\ttraining's rmse: 0.115524\tvalid_1's rmse: 0.124775\n"
     ]
    },
    {
     "name": "stderr",
     "output_type": "stream",
     "text": [
      "spearmanr: 0.38458491570604647\n",
      "============================================================================\n",
      "target: question_interestingness_others  LGB CV spearmanr: 0.36189077222951066\n",
      "============================================================================\n",
      "============================================================================\n",
      "target: question_interestingness_self  nn CV spearmanr: 0.4753806644351493\n",
      "============================================================================\n",
      "len(trn_idx) : 4866\n",
      "len(val_idx) : 1213\n"
     ]
    },
    {
     "name": "stdout",
     "output_type": "stream",
     "text": [
      "Training until validation scores don't improve for 100 rounds\n"
     ]
    },
    {
     "name": "stderr",
     "output_type": "stream",
     "text": [
      "Dumping model with pickle... question_interestingness_self_lightgbm_fold0.pkl\n"
     ]
    },
    {
     "name": "stdout",
     "output_type": "stream",
     "text": [
      "Early stopping, best iteration is:\n",
      "[307]\ttraining's rmse: 0.138616\tvalid_1's rmse: 0.166508\n"
     ]
    },
    {
     "name": "stderr",
     "output_type": "stream",
     "text": [
      "spearmanr: 0.48824054662613203\n",
      "len(trn_idx) : 4866\n",
      "len(val_idx) : 1213\n"
     ]
    },
    {
     "name": "stdout",
     "output_type": "stream",
     "text": [
      "Training until validation scores don't improve for 100 rounds\n"
     ]
    },
    {
     "name": "stderr",
     "output_type": "stream",
     "text": [
      "Dumping model with pickle... question_interestingness_self_lightgbm_fold1.pkl\n"
     ]
    },
    {
     "name": "stdout",
     "output_type": "stream",
     "text": [
      "Early stopping, best iteration is:\n",
      "[262]\ttraining's rmse: 0.137342\tvalid_1's rmse: 0.165688\n"
     ]
    },
    {
     "name": "stderr",
     "output_type": "stream",
     "text": [
      "spearmanr: 0.4940265628669284\n",
      "len(trn_idx) : 4862\n",
      "len(val_idx) : 1217\n"
     ]
    },
    {
     "name": "stdout",
     "output_type": "stream",
     "text": [
      "Training until validation scores don't improve for 100 rounds\n"
     ]
    },
    {
     "name": "stderr",
     "output_type": "stream",
     "text": [
      "Dumping model with pickle... question_interestingness_self_lightgbm_fold2.pkl\n"
     ]
    },
    {
     "name": "stdout",
     "output_type": "stream",
     "text": [
      "Early stopping, best iteration is:\n",
      "[265]\ttraining's rmse: 0.142049\tvalid_1's rmse: 0.155739\n"
     ]
    },
    {
     "name": "stderr",
     "output_type": "stream",
     "text": [
      "spearmanr: 0.4849110287597406\n",
      "len(trn_idx) : 4866\n",
      "len(val_idx) : 1213\n"
     ]
    },
    {
     "name": "stdout",
     "output_type": "stream",
     "text": [
      "Training until validation scores don't improve for 100 rounds\n"
     ]
    },
    {
     "name": "stderr",
     "output_type": "stream",
     "text": [
      "Dumping model with pickle... question_interestingness_self_lightgbm_fold3.pkl\n"
     ]
    },
    {
     "name": "stdout",
     "output_type": "stream",
     "text": [
      "Early stopping, best iteration is:\n",
      "[271]\ttraining's rmse: 0.138097\tvalid_1's rmse: 0.160219\n"
     ]
    },
    {
     "name": "stderr",
     "output_type": "stream",
     "text": [
      "spearmanr: 0.4821098803431501\n",
      "len(trn_idx) : 4856\n",
      "len(val_idx) : 1223\n"
     ]
    },
    {
     "name": "stdout",
     "output_type": "stream",
     "text": [
      "Training until validation scores don't improve for 100 rounds\n"
     ]
    },
    {
     "name": "stderr",
     "output_type": "stream",
     "text": [
      "Dumping model with pickle... question_interestingness_self_lightgbm_fold4.pkl\n"
     ]
    },
    {
     "name": "stdout",
     "output_type": "stream",
     "text": [
      "Early stopping, best iteration is:\n",
      "[274]\ttraining's rmse: 0.139746\tvalid_1's rmse: 0.148832\n"
     ]
    },
    {
     "name": "stderr",
     "output_type": "stream",
     "text": [
      "spearmanr: 0.5243454478304951\n",
      "============================================================================\n",
      "target: question_interestingness_self  LGB CV spearmanr: 0.4945723021645404\n",
      "============================================================================\n",
      "============================================================================\n",
      "target: question_multi_intent  nn CV spearmanr: 0.5823264005547792\n",
      "============================================================================\n",
      "len(trn_idx) : 4866\n",
      "len(val_idx) : 1213\n"
     ]
    },
    {
     "name": "stdout",
     "output_type": "stream",
     "text": [
      "Training until validation scores don't improve for 100 rounds\n"
     ]
    },
    {
     "name": "stderr",
     "output_type": "stream",
     "text": [
      "Dumping model with pickle... question_multi_intent_lightgbm_fold0.pkl\n"
     ]
    },
    {
     "name": "stdout",
     "output_type": "stream",
     "text": [
      "Early stopping, best iteration is:\n",
      "[209]\ttraining's rmse: 0.199691\tvalid_1's rmse: 0.26652\n"
     ]
    },
    {
     "name": "stderr",
     "output_type": "stream",
     "text": [
      "spearmanr: 0.5822621174929673\n",
      "len(trn_idx) : 4866\n",
      "len(val_idx) : 1213\n"
     ]
    },
    {
     "name": "stdout",
     "output_type": "stream",
     "text": [
      "Training until validation scores don't improve for 100 rounds\n"
     ]
    },
    {
     "name": "stderr",
     "output_type": "stream",
     "text": [
      "Dumping model with pickle... question_multi_intent_lightgbm_fold1.pkl\n"
     ]
    },
    {
     "name": "stdout",
     "output_type": "stream",
     "text": [
      "Early stopping, best iteration is:\n",
      "[191]\ttraining's rmse: 0.188541\tvalid_1's rmse: 0.260646\n"
     ]
    },
    {
     "name": "stderr",
     "output_type": "stream",
     "text": [
      "spearmanr: 0.6265952756208948\n",
      "len(trn_idx) : 4862\n",
      "len(val_idx) : 1217\n"
     ]
    },
    {
     "name": "stdout",
     "output_type": "stream",
     "text": [
      "Training until validation scores don't improve for 100 rounds\n"
     ]
    },
    {
     "name": "stderr",
     "output_type": "stream",
     "text": [
      "Dumping model with pickle... question_multi_intent_lightgbm_fold2.pkl\n"
     ]
    },
    {
     "name": "stdout",
     "output_type": "stream",
     "text": [
      "Early stopping, best iteration is:\n",
      "[212]\ttraining's rmse: 0.200122\tvalid_1's rmse: 0.259209\n"
     ]
    },
    {
     "name": "stderr",
     "output_type": "stream",
     "text": [
      "spearmanr: 0.5697714606068929\n",
      "len(trn_idx) : 4866\n",
      "len(val_idx) : 1213\n"
     ]
    },
    {
     "name": "stdout",
     "output_type": "stream",
     "text": [
      "Training until validation scores don't improve for 100 rounds\n"
     ]
    },
    {
     "name": "stderr",
     "output_type": "stream",
     "text": [
      "Dumping model with pickle... question_multi_intent_lightgbm_fold3.pkl\n"
     ]
    },
    {
     "name": "stdout",
     "output_type": "stream",
     "text": [
      "Early stopping, best iteration is:\n",
      "[141]\ttraining's rmse: 0.200258\tvalid_1's rmse: 0.268623\n"
     ]
    },
    {
     "name": "stderr",
     "output_type": "stream",
     "text": [
      "spearmanr: 0.5715217286815838\n",
      "len(trn_idx) : 4856\n",
      "len(val_idx) : 1223\n"
     ]
    },
    {
     "name": "stdout",
     "output_type": "stream",
     "text": [
      "Training until validation scores don't improve for 100 rounds\n"
     ]
    },
    {
     "name": "stderr",
     "output_type": "stream",
     "text": [
      "Dumping model with pickle... question_multi_intent_lightgbm_fold4.pkl\n"
     ]
    },
    {
     "name": "stdout",
     "output_type": "stream",
     "text": [
      "Early stopping, best iteration is:\n",
      "[158]\ttraining's rmse: 0.193714\tvalid_1's rmse: 0.279537\n"
     ]
    },
    {
     "name": "stderr",
     "output_type": "stream",
     "text": [
      "spearmanr: 0.5614837064001555\n",
      "============================================================================\n",
      "target: question_multi_intent  LGB CV spearmanr: 0.582090168442282\n",
      "============================================================================\n",
      "============================================================================\n",
      "target: question_not_really_a_question  nn CV spearmanr: 0.06656270141365651\n",
      "============================================================================\n",
      "len(trn_idx) : 4866\n",
      "len(val_idx) : 1213\n"
     ]
    },
    {
     "name": "stdout",
     "output_type": "stream",
     "text": [
      "Training until validation scores don't improve for 100 rounds\n"
     ]
    },
    {
     "name": "stderr",
     "output_type": "stream",
     "text": [
      "Dumping model with pickle... question_not_really_a_question_lightgbm_fold0.pkl\n"
     ]
    },
    {
     "name": "stdout",
     "output_type": "stream",
     "text": [
      "Early stopping, best iteration is:\n",
      "[16]\ttraining's rmse: 0.0442566\tvalid_1's rmse: 0.0499102\n"
     ]
    },
    {
     "name": "stderr",
     "output_type": "stream",
     "text": [
      "spearmanr: 0.05425979098546285\n",
      "len(trn_idx) : 4866\n",
      "len(val_idx) : 1213\n"
     ]
    },
    {
     "name": "stdout",
     "output_type": "stream",
     "text": [
      "Training until validation scores don't improve for 100 rounds\n"
     ]
    },
    {
     "name": "stderr",
     "output_type": "stream",
     "text": [
      "Dumping model with pickle... question_not_really_a_question_lightgbm_fold1.pkl\n"
     ]
    },
    {
     "name": "stdout",
     "output_type": "stream",
     "text": [
      "Early stopping, best iteration is:\n",
      "[45]\ttraining's rmse: 0.0438248\tvalid_1's rmse: 0.0464382\n"
     ]
    },
    {
     "name": "stderr",
     "output_type": "stream",
     "text": [
      "spearmanr: 0.09163663112442953\n",
      "len(trn_idx) : 4862\n",
      "len(val_idx) : 1217\n"
     ]
    },
    {
     "name": "stdout",
     "output_type": "stream",
     "text": [
      "Training until validation scores don't improve for 100 rounds\n"
     ]
    },
    {
     "name": "stderr",
     "output_type": "stream",
     "text": [
      "Dumping model with pickle... question_not_really_a_question_lightgbm_fold2.pkl\n"
     ]
    },
    {
     "name": "stdout",
     "output_type": "stream",
     "text": [
      "Early stopping, best iteration is:\n",
      "[45]\ttraining's rmse: 0.0444829\tvalid_1's rmse: 0.0435059\n"
     ]
    },
    {
     "name": "stderr",
     "output_type": "stream",
     "text": [
      "spearmanr: 0.040523610620910915\n",
      "len(trn_idx) : 4866\n",
      "len(val_idx) : 1213\n"
     ]
    },
    {
     "name": "stdout",
     "output_type": "stream",
     "text": [
      "Training until validation scores don't improve for 100 rounds\n"
     ]
    },
    {
     "name": "stderr",
     "output_type": "stream",
     "text": [
      "Dumping model with pickle... question_not_really_a_question_lightgbm_fold3.pkl\n"
     ]
    },
    {
     "name": "stdout",
     "output_type": "stream",
     "text": [
      "Early stopping, best iteration is:\n",
      "[134]\ttraining's rmse: 0.0363147\tvalid_1's rmse: 0.048585\n"
     ]
    },
    {
     "name": "stderr",
     "output_type": "stream",
     "text": [
      "spearmanr: 0.10176975349790918\n",
      "len(trn_idx) : 4856\n",
      "len(val_idx) : 1223\n"
     ]
    },
    {
     "name": "stdout",
     "output_type": "stream",
     "text": [
      "Training until validation scores don't improve for 100 rounds\n"
     ]
    },
    {
     "name": "stderr",
     "output_type": "stream",
     "text": [
      "Dumping model with pickle... question_not_really_a_question_lightgbm_fold4.pkl\n"
     ]
    },
    {
     "name": "stdout",
     "output_type": "stream",
     "text": [
      "Early stopping, best iteration is:\n",
      "[32]\ttraining's rmse: 0.0461891\tvalid_1's rmse: 0.0387345\n"
     ]
    },
    {
     "name": "stderr",
     "output_type": "stream",
     "text": [
      "spearmanr: 0.07965097302022418\n",
      "============================================================================\n",
      "target: question_not_really_a_question  LGB CV spearmanr: 0.07210905318503581\n",
      "============================================================================\n",
      "============================================================================\n",
      "target: question_opinion_seeking  nn CV spearmanr: 0.4672861983632963\n",
      "============================================================================\n",
      "len(trn_idx) : 4866\n",
      "len(val_idx) : 1213\n"
     ]
    },
    {
     "name": "stdout",
     "output_type": "stream",
     "text": [
      "Training until validation scores don't improve for 100 rounds\n"
     ]
    },
    {
     "name": "stderr",
     "output_type": "stream",
     "text": [
      "Dumping model with pickle... question_opinion_seeking_lightgbm_fold0.pkl\n"
     ]
    },
    {
     "name": "stdout",
     "output_type": "stream",
     "text": [
      "Early stopping, best iteration is:\n",
      "[160]\ttraining's rmse: 0.258967\tvalid_1's rmse: 0.316399\n"
     ]
    },
    {
     "name": "stderr",
     "output_type": "stream",
     "text": [
      "spearmanr: 0.45762146077175403\n",
      "len(trn_idx) : 4866\n",
      "len(val_idx) : 1213\n"
     ]
    },
    {
     "name": "stdout",
     "output_type": "stream",
     "text": [
      "Training until validation scores don't improve for 100 rounds\n"
     ]
    },
    {
     "name": "stderr",
     "output_type": "stream",
     "text": [
      "Dumping model with pickle... question_opinion_seeking_lightgbm_fold1.pkl\n"
     ]
    },
    {
     "name": "stdout",
     "output_type": "stream",
     "text": [
      "Early stopping, best iteration is:\n",
      "[143]\ttraining's rmse: 0.234158\tvalid_1's rmse: 0.320483\n"
     ]
    },
    {
     "name": "stderr",
     "output_type": "stream",
     "text": [
      "spearmanr: 0.470407615084052\n",
      "len(trn_idx) : 4862\n",
      "len(val_idx) : 1217\n"
     ]
    },
    {
     "name": "stdout",
     "output_type": "stream",
     "text": [
      "Training until validation scores don't improve for 100 rounds\n"
     ]
    },
    {
     "name": "stderr",
     "output_type": "stream",
     "text": [
      "Dumping model with pickle... question_opinion_seeking_lightgbm_fold2.pkl\n"
     ]
    },
    {
     "name": "stdout",
     "output_type": "stream",
     "text": [
      "Early stopping, best iteration is:\n",
      "[162]\ttraining's rmse: 0.246431\tvalid_1's rmse: 0.31836\n"
     ]
    },
    {
     "name": "stderr",
     "output_type": "stream",
     "text": [
      "spearmanr: 0.4731680624894314\n",
      "len(trn_idx) : 4866\n",
      "len(val_idx) : 1213\n"
     ]
    },
    {
     "name": "stdout",
     "output_type": "stream",
     "text": [
      "Training until validation scores don't improve for 100 rounds\n"
     ]
    },
    {
     "name": "stderr",
     "output_type": "stream",
     "text": [
      "Dumping model with pickle... question_opinion_seeking_lightgbm_fold3.pkl\n"
     ]
    },
    {
     "name": "stdout",
     "output_type": "stream",
     "text": [
      "Early stopping, best iteration is:\n",
      "[127]\ttraining's rmse: 0.247433\tvalid_1's rmse: 0.325468\n"
     ]
    },
    {
     "name": "stderr",
     "output_type": "stream",
     "text": [
      "spearmanr: 0.43206008747520636\n",
      "len(trn_idx) : 4856\n",
      "len(val_idx) : 1223\n"
     ]
    },
    {
     "name": "stdout",
     "output_type": "stream",
     "text": [
      "Training until validation scores don't improve for 100 rounds\n"
     ]
    },
    {
     "name": "stderr",
     "output_type": "stream",
     "text": [
      "Dumping model with pickle... question_opinion_seeking_lightgbm_fold4.pkl\n"
     ]
    },
    {
     "name": "stdout",
     "output_type": "stream",
     "text": [
      "Early stopping, best iteration is:\n",
      "[138]\ttraining's rmse: 0.242179\tvalid_1's rmse: 0.319618\n"
     ]
    },
    {
     "name": "stderr",
     "output_type": "stream",
     "text": [
      "spearmanr: 0.4832539968993125\n",
      "============================================================================\n",
      "target: question_opinion_seeking  LGB CV spearmanr: 0.46367706620453003\n",
      "============================================================================\n",
      "============================================================================\n",
      "target: question_type_choice  nn CV spearmanr: 0.7431661760677667\n",
      "============================================================================\n",
      "len(trn_idx) : 4866\n",
      "len(val_idx) : 1213\n"
     ]
    },
    {
     "name": "stdout",
     "output_type": "stream",
     "text": [
      "Training until validation scores don't improve for 100 rounds\n"
     ]
    },
    {
     "name": "stderr",
     "output_type": "stream",
     "text": [
      "Dumping model with pickle... question_type_choice_lightgbm_fold0.pkl\n"
     ]
    },
    {
     "name": "stdout",
     "output_type": "stream",
     "text": [
      "Early stopping, best iteration is:\n",
      "[212]\ttraining's rmse: 0.181426\tvalid_1's rmse: 0.239856\n"
     ]
    },
    {
     "name": "stderr",
     "output_type": "stream",
     "text": [
      "spearmanr: 0.7511909984250713\n",
      "len(trn_idx) : 4866\n",
      "len(val_idx) : 1213\n"
     ]
    },
    {
     "name": "stdout",
     "output_type": "stream",
     "text": [
      "Training until validation scores don't improve for 100 rounds\n"
     ]
    },
    {
     "name": "stderr",
     "output_type": "stream",
     "text": [
      "Dumping model with pickle... question_type_choice_lightgbm_fold1.pkl\n"
     ]
    },
    {
     "name": "stdout",
     "output_type": "stream",
     "text": [
      "Early stopping, best iteration is:\n",
      "[200]\ttraining's rmse: 0.171705\tvalid_1's rmse: 0.252455\n"
     ]
    },
    {
     "name": "stderr",
     "output_type": "stream",
     "text": [
      "spearmanr: 0.7291638716673968\n",
      "len(trn_idx) : 4862\n",
      "len(val_idx) : 1217\n"
     ]
    },
    {
     "name": "stdout",
     "output_type": "stream",
     "text": [
      "Training until validation scores don't improve for 100 rounds\n"
     ]
    },
    {
     "name": "stderr",
     "output_type": "stream",
     "text": [
      "Dumping model with pickle... question_type_choice_lightgbm_fold2.pkl\n"
     ]
    },
    {
     "name": "stdout",
     "output_type": "stream",
     "text": [
      "Early stopping, best iteration is:\n",
      "[267]\ttraining's rmse: 0.178889\tvalid_1's rmse: 0.233181\n"
     ]
    },
    {
     "name": "stderr",
     "output_type": "stream",
     "text": [
      "spearmanr: 0.7543891982538808\n",
      "len(trn_idx) : 4866\n",
      "len(val_idx) : 1213\n"
     ]
    },
    {
     "name": "stdout",
     "output_type": "stream",
     "text": [
      "Training until validation scores don't improve for 100 rounds\n"
     ]
    },
    {
     "name": "stderr",
     "output_type": "stream",
     "text": [
      "Dumping model with pickle... question_type_choice_lightgbm_fold3.pkl\n"
     ]
    },
    {
     "name": "stdout",
     "output_type": "stream",
     "text": [
      "Early stopping, best iteration is:\n",
      "[202]\ttraining's rmse: 0.170641\tvalid_1's rmse: 0.259229\n"
     ]
    },
    {
     "name": "stderr",
     "output_type": "stream",
     "text": [
      "spearmanr: 0.7195242162420704\n",
      "len(trn_idx) : 4856\n",
      "len(val_idx) : 1223\n"
     ]
    },
    {
     "name": "stdout",
     "output_type": "stream",
     "text": [
      "Training until validation scores don't improve for 100 rounds\n"
     ]
    },
    {
     "name": "stderr",
     "output_type": "stream",
     "text": [
      "Dumping model with pickle... question_type_choice_lightgbm_fold4.pkl\n"
     ]
    },
    {
     "name": "stdout",
     "output_type": "stream",
     "text": [
      "Early stopping, best iteration is:\n",
      "[211]\ttraining's rmse: 0.171952\tvalid_1's rmse: 0.234243\n"
     ]
    },
    {
     "name": "stderr",
     "output_type": "stream",
     "text": [
      "spearmanr: 0.7621424926880714\n",
      "============================================================================\n",
      "target: question_type_choice  LGB CV spearmanr: 0.7432707312002022\n",
      "============================================================================\n",
      "============================================================================\n",
      "target: question_type_compare  nn CV spearmanr: 0.3471246997613529\n",
      "============================================================================\n",
      "len(trn_idx) : 4866\n",
      "len(val_idx) : 1213\n"
     ]
    },
    {
     "name": "stdout",
     "output_type": "stream",
     "text": [
      "Training until validation scores don't improve for 100 rounds\n"
     ]
    },
    {
     "name": "stderr",
     "output_type": "stream",
     "text": [
      "Dumping model with pickle... question_type_compare_lightgbm_fold0.pkl\n"
     ]
    },
    {
     "name": "stdout",
     "output_type": "stream",
     "text": [
      "Early stopping, best iteration is:\n",
      "[290]\ttraining's rmse: 0.0826112\tvalid_1's rmse: 0.116161\n"
     ]
    },
    {
     "name": "stderr",
     "output_type": "stream",
     "text": [
      "spearmanr: 0.3588470888745212\n",
      "len(trn_idx) : 4866\n",
      "len(val_idx) : 1213\n"
     ]
    },
    {
     "name": "stdout",
     "output_type": "stream",
     "text": [
      "Training until validation scores don't improve for 100 rounds\n"
     ]
    },
    {
     "name": "stderr",
     "output_type": "stream",
     "text": [
      "Dumping model with pickle... question_type_compare_lightgbm_fold1.pkl\n"
     ]
    },
    {
     "name": "stdout",
     "output_type": "stream",
     "text": [
      "Early stopping, best iteration is:\n",
      "[179]\ttraining's rmse: 0.0851194\tvalid_1's rmse: 0.12456\n"
     ]
    },
    {
     "name": "stderr",
     "output_type": "stream",
     "text": [
      "spearmanr: 0.3359365580928848\n",
      "len(trn_idx) : 4862\n",
      "len(val_idx) : 1217\n"
     ]
    },
    {
     "name": "stdout",
     "output_type": "stream",
     "text": [
      "Training until validation scores don't improve for 100 rounds\n"
     ]
    },
    {
     "name": "stderr",
     "output_type": "stream",
     "text": [
      "Dumping model with pickle... question_type_compare_lightgbm_fold2.pkl\n"
     ]
    },
    {
     "name": "stdout",
     "output_type": "stream",
     "text": [
      "Early stopping, best iteration is:\n",
      "[154]\ttraining's rmse: 0.0961989\tvalid_1's rmse: 0.121509\n"
     ]
    },
    {
     "name": "stderr",
     "output_type": "stream",
     "text": [
      "spearmanr: 0.3164967262254385\n",
      "len(trn_idx) : 4866\n",
      "len(val_idx) : 1213\n"
     ]
    },
    {
     "name": "stdout",
     "output_type": "stream",
     "text": [
      "Training until validation scores don't improve for 100 rounds\n"
     ]
    },
    {
     "name": "stderr",
     "output_type": "stream",
     "text": [
      "Dumping model with pickle... question_type_compare_lightgbm_fold3.pkl\n"
     ]
    },
    {
     "name": "stdout",
     "output_type": "stream",
     "text": [
      "Early stopping, best iteration is:\n",
      "[252]\ttraining's rmse: 0.0785152\tvalid_1's rmse: 0.117478\n"
     ]
    },
    {
     "name": "stderr",
     "output_type": "stream",
     "text": [
      "spearmanr: 0.3565028496496342\n",
      "len(trn_idx) : 4856\n",
      "len(val_idx) : 1223\n"
     ]
    },
    {
     "name": "stdout",
     "output_type": "stream",
     "text": [
      "Training until validation scores don't improve for 100 rounds\n"
     ]
    },
    {
     "name": "stderr",
     "output_type": "stream",
     "text": [
      "Dumping model with pickle... question_type_compare_lightgbm_fold4.pkl\n"
     ]
    },
    {
     "name": "stdout",
     "output_type": "stream",
     "text": [
      "Early stopping, best iteration is:\n",
      "[135]\ttraining's rmse: 0.0927494\tvalid_1's rmse: 0.124687\n"
     ]
    },
    {
     "name": "stderr",
     "output_type": "stream",
     "text": [
      "spearmanr: 0.35495022361674844\n",
      "============================================================================\n",
      "target: question_type_compare  LGB CV spearmanr: 0.34416266249587013\n",
      "============================================================================\n",
      "============================================================================\n",
      "target: question_type_consequence  nn CV spearmanr: 0.15666646763423575\n",
      "============================================================================\n",
      "len(trn_idx) : 4866\n",
      "len(val_idx) : 1213\n"
     ]
    },
    {
     "name": "stdout",
     "output_type": "stream",
     "text": [
      "Training until validation scores don't improve for 100 rounds\n"
     ]
    },
    {
     "name": "stderr",
     "output_type": "stream",
     "text": [
      "Dumping model with pickle... question_type_consequence_lightgbm_fold0.pkl\n"
     ]
    },
    {
     "name": "stdout",
     "output_type": "stream",
     "text": [
      "Early stopping, best iteration is:\n",
      "[36]\ttraining's rmse: 0.0719365\tvalid_1's rmse: 0.0708355\n"
     ]
    },
    {
     "name": "stderr",
     "output_type": "stream",
     "text": [
      "spearmanr: 0.1292013589537334\n",
      "len(trn_idx) : 4866\n",
      "len(val_idx) : 1213\n"
     ]
    },
    {
     "name": "stdout",
     "output_type": "stream",
     "text": [
      "Training until validation scores don't improve for 100 rounds\n"
     ]
    },
    {
     "name": "stderr",
     "output_type": "stream",
     "text": [
      "Dumping model with pickle... question_type_consequence_lightgbm_fold1.pkl\n"
     ]
    },
    {
     "name": "stdout",
     "output_type": "stream",
     "text": [
      "Early stopping, best iteration is:\n",
      "[270]\ttraining's rmse: 0.0388472\tvalid_1's rmse: 0.0730642\n"
     ]
    },
    {
     "name": "stderr",
     "output_type": "stream",
     "text": [
      "spearmanr: 0.19112999672443487\n",
      "len(trn_idx) : 4862\n",
      "len(val_idx) : 1217\n"
     ]
    },
    {
     "name": "stdout",
     "output_type": "stream",
     "text": [
      "Training until validation scores don't improve for 100 rounds\n"
     ]
    },
    {
     "name": "stderr",
     "output_type": "stream",
     "text": [
      "Dumping model with pickle... question_type_consequence_lightgbm_fold2.pkl\n"
     ]
    },
    {
     "name": "stdout",
     "output_type": "stream",
     "text": [
      "Early stopping, best iteration is:\n",
      "[205]\ttraining's rmse: 0.0508108\tvalid_1's rmse: 0.078094\n"
     ]
    },
    {
     "name": "stderr",
     "output_type": "stream",
     "text": [
      "spearmanr: 0.19295446261622087\n",
      "len(trn_idx) : 4866\n",
      "len(val_idx) : 1213\n"
     ]
    },
    {
     "name": "stdout",
     "output_type": "stream",
     "text": [
      "Training until validation scores don't improve for 100 rounds\n"
     ]
    },
    {
     "name": "stderr",
     "output_type": "stream",
     "text": [
      "Dumping model with pickle... question_type_consequence_lightgbm_fold3.pkl\n"
     ]
    },
    {
     "name": "stdout",
     "output_type": "stream",
     "text": [
      "Early stopping, best iteration is:\n",
      "[636]\ttraining's rmse: 0.0243048\tvalid_1's rmse: 0.0702957\n"
     ]
    },
    {
     "name": "stderr",
     "output_type": "stream",
     "text": [
      "spearmanr: 0.17839085878952035\n",
      "len(trn_idx) : 4856\n",
      "len(val_idx) : 1223\n"
     ]
    },
    {
     "name": "stdout",
     "output_type": "stream",
     "text": [
      "Training until validation scores don't improve for 100 rounds\n"
     ]
    },
    {
     "name": "stderr",
     "output_type": "stream",
     "text": [
      "Dumping model with pickle... question_type_consequence_lightgbm_fold4.pkl\n"
     ]
    },
    {
     "name": "stdout",
     "output_type": "stream",
     "text": [
      "Early stopping, best iteration is:\n",
      "[128]\ttraining's rmse: 0.0587786\tvalid_1's rmse: 0.0677711\n"
     ]
    },
    {
     "name": "stderr",
     "output_type": "stream",
     "text": [
      "spearmanr: 0.16312958763064983\n",
      "============================================================================\n",
      "target: question_type_consequence  LGB CV spearmanr: 0.16550606432677847\n",
      "============================================================================\n",
      "============================================================================\n",
      "target: question_type_definition  nn CV spearmanr: 0.3465298324989898\n",
      "============================================================================\n",
      "len(trn_idx) : 4866\n",
      "len(val_idx) : 1213\n"
     ]
    },
    {
     "name": "stdout",
     "output_type": "stream",
     "text": [
      "Training until validation scores don't improve for 100 rounds\n"
     ]
    },
    {
     "name": "stderr",
     "output_type": "stream",
     "text": [
      "Dumping model with pickle... question_type_definition_lightgbm_fold0.pkl\n"
     ]
    },
    {
     "name": "stdout",
     "output_type": "stream",
     "text": [
      "Early stopping, best iteration is:\n",
      "[218]\ttraining's rmse: 0.0665568\tvalid_1's rmse: 0.11575\n"
     ]
    },
    {
     "name": "stderr",
     "output_type": "stream",
     "text": [
      "spearmanr: 0.36636834780053135\n",
      "len(trn_idx) : 4866\n",
      "len(val_idx) : 1213\n"
     ]
    },
    {
     "name": "stdout",
     "output_type": "stream",
     "text": [
      "Training until validation scores don't improve for 100 rounds\n"
     ]
    },
    {
     "name": "stderr",
     "output_type": "stream",
     "text": [
      "Dumping model with pickle... question_type_definition_lightgbm_fold1.pkl\n"
     ]
    },
    {
     "name": "stdout",
     "output_type": "stream",
     "text": [
      "Early stopping, best iteration is:\n",
      "[311]\ttraining's rmse: 0.0578345\tvalid_1's rmse: 0.102268\n"
     ]
    },
    {
     "name": "stderr",
     "output_type": "stream",
     "text": [
      "spearmanr: 0.3210480320441302\n",
      "len(trn_idx) : 4862\n",
      "len(val_idx) : 1217\n"
     ]
    },
    {
     "name": "stdout",
     "output_type": "stream",
     "text": [
      "Training until validation scores don't improve for 100 rounds\n"
     ]
    },
    {
     "name": "stderr",
     "output_type": "stream",
     "text": [
      "Dumping model with pickle... question_type_definition_lightgbm_fold2.pkl\n"
     ]
    },
    {
     "name": "stdout",
     "output_type": "stream",
     "text": [
      "Early stopping, best iteration is:\n",
      "[260]\ttraining's rmse: 0.0669658\tvalid_1's rmse: 0.0976581\n"
     ]
    },
    {
     "name": "stderr",
     "output_type": "stream",
     "text": [
      "spearmanr: 0.34187570477756835\n",
      "len(trn_idx) : 4866\n",
      "len(val_idx) : 1213\n"
     ]
    },
    {
     "name": "stdout",
     "output_type": "stream",
     "text": [
      "Training until validation scores don't improve for 100 rounds\n"
     ]
    },
    {
     "name": "stderr",
     "output_type": "stream",
     "text": [
      "Dumping model with pickle... question_type_definition_lightgbm_fold3.pkl\n"
     ]
    },
    {
     "name": "stdout",
     "output_type": "stream",
     "text": [
      "Early stopping, best iteration is:\n",
      "[139]\ttraining's rmse: 0.0762203\tvalid_1's rmse: 0.0985877\n"
     ]
    },
    {
     "name": "stderr",
     "output_type": "stream",
     "text": [
      "spearmanr: 0.3680994153648146\n",
      "len(trn_idx) : 4856\n",
      "len(val_idx) : 1223\n"
     ]
    },
    {
     "name": "stdout",
     "output_type": "stream",
     "text": [
      "Training until validation scores don't improve for 100 rounds\n"
     ]
    },
    {
     "name": "stderr",
     "output_type": "stream",
     "text": [
      "Dumping model with pickle... question_type_definition_lightgbm_fold4.pkl\n"
     ]
    },
    {
     "name": "stdout",
     "output_type": "stream",
     "text": [
      "Early stopping, best iteration is:\n",
      "[190]\ttraining's rmse: 0.0710906\tvalid_1's rmse: 0.112512\n"
     ]
    },
    {
     "name": "stderr",
     "output_type": "stream",
     "text": [
      "spearmanr: 0.34869396307302664\n",
      "============================================================================\n",
      "target: question_type_definition  LGB CV spearmanr: 0.3475443302145678\n",
      "============================================================================\n",
      "============================================================================\n",
      "target: question_type_entity  nn CV spearmanr: 0.44062839091880823\n",
      "============================================================================\n",
      "len(trn_idx) : 4866\n",
      "len(val_idx) : 1213\n"
     ]
    },
    {
     "name": "stdout",
     "output_type": "stream",
     "text": [
      "Training until validation scores don't improve for 100 rounds\n"
     ]
    },
    {
     "name": "stderr",
     "output_type": "stream",
     "text": [
      "Dumping model with pickle... question_type_entity_lightgbm_fold0.pkl\n"
     ]
    },
    {
     "name": "stdout",
     "output_type": "stream",
     "text": [
      "Early stopping, best iteration is:\n",
      "[238]\ttraining's rmse: 0.103382\tvalid_1's rmse: 0.155627\n"
     ]
    },
    {
     "name": "stderr",
     "output_type": "stream",
     "text": [
      "spearmanr: 0.40603161713517066\n",
      "len(trn_idx) : 4866\n",
      "len(val_idx) : 1213\n"
     ]
    },
    {
     "name": "stdout",
     "output_type": "stream",
     "text": [
      "Training until validation scores don't improve for 100 rounds\n"
     ]
    },
    {
     "name": "stderr",
     "output_type": "stream",
     "text": [
      "Dumping model with pickle... question_type_entity_lightgbm_fold1.pkl\n"
     ]
    },
    {
     "name": "stdout",
     "output_type": "stream",
     "text": [
      "Early stopping, best iteration is:\n",
      "[315]\ttraining's rmse: 0.0843088\tvalid_1's rmse: 0.138523\n"
     ]
    },
    {
     "name": "stderr",
     "output_type": "stream",
     "text": [
      "spearmanr: 0.4786339373043913\n",
      "len(trn_idx) : 4862\n",
      "len(val_idx) : 1217\n"
     ]
    },
    {
     "name": "stdout",
     "output_type": "stream",
     "text": [
      "Training until validation scores don't improve for 100 rounds\n"
     ]
    },
    {
     "name": "stderr",
     "output_type": "stream",
     "text": [
      "Dumping model with pickle... question_type_entity_lightgbm_fold2.pkl\n"
     ]
    },
    {
     "name": "stdout",
     "output_type": "stream",
     "text": [
      "Early stopping, best iteration is:\n",
      "[170]\ttraining's rmse: 0.112848\tvalid_1's rmse: 0.133138\n"
     ]
    },
    {
     "name": "stderr",
     "output_type": "stream",
     "text": [
      "spearmanr: 0.4628485394982363\n",
      "len(trn_idx) : 4866\n",
      "len(val_idx) : 1213\n"
     ]
    },
    {
     "name": "stdout",
     "output_type": "stream",
     "text": [
      "Training until validation scores don't improve for 100 rounds\n"
     ]
    },
    {
     "name": "stderr",
     "output_type": "stream",
     "text": [
      "Dumping model with pickle... question_type_entity_lightgbm_fold3.pkl\n"
     ]
    },
    {
     "name": "stdout",
     "output_type": "stream",
     "text": [
      "Early stopping, best iteration is:\n",
      "[295]\ttraining's rmse: 0.0876359\tvalid_1's rmse: 0.134023\n"
     ]
    },
    {
     "name": "stderr",
     "output_type": "stream",
     "text": [
      "spearmanr: 0.47588406107704323\n",
      "len(trn_idx) : 4856\n",
      "len(val_idx) : 1223\n"
     ]
    },
    {
     "name": "stdout",
     "output_type": "stream",
     "text": [
      "Training until validation scores don't improve for 100 rounds\n"
     ]
    },
    {
     "name": "stderr",
     "output_type": "stream",
     "text": [
      "Dumping model with pickle... question_type_entity_lightgbm_fold4.pkl\n"
     ]
    },
    {
     "name": "stdout",
     "output_type": "stream",
     "text": [
      "Early stopping, best iteration is:\n",
      "[210]\ttraining's rmse: 0.093523\tvalid_1's rmse: 0.152948\n"
     ]
    },
    {
     "name": "stderr",
     "output_type": "stream",
     "text": [
      "spearmanr: 0.4279431603665306\n",
      "============================================================================\n",
      "target: question_type_entity  LGB CV spearmanr: 0.4496355514295769\n",
      "============================================================================\n",
      "============================================================================\n",
      "target: question_type_instructions  nn CV spearmanr: 0.7745461261516062\n",
      "============================================================================\n",
      "len(trn_idx) : 4866\n",
      "len(val_idx) : 1213\n"
     ]
    },
    {
     "name": "stdout",
     "output_type": "stream",
     "text": [
      "Training until validation scores don't improve for 100 rounds\n"
     ]
    },
    {
     "name": "stderr",
     "output_type": "stream",
     "text": [
      "Dumping model with pickle... question_type_instructions_lightgbm_fold0.pkl\n"
     ]
    },
    {
     "name": "stdout",
     "output_type": "stream",
     "text": [
      "Early stopping, best iteration is:\n",
      "[259]\ttraining's rmse: 0.186186\tvalid_1's rmse: 0.256074\n"
     ]
    },
    {
     "name": "stderr",
     "output_type": "stream",
     "text": [
      "spearmanr: 0.7789363182433366\n",
      "len(trn_idx) : 4866\n",
      "len(val_idx) : 1213\n"
     ]
    },
    {
     "name": "stdout",
     "output_type": "stream",
     "text": [
      "Training until validation scores don't improve for 100 rounds\n"
     ]
    },
    {
     "name": "stderr",
     "output_type": "stream",
     "text": [
      "Dumping model with pickle... question_type_instructions_lightgbm_fold1.pkl\n"
     ]
    },
    {
     "name": "stdout",
     "output_type": "stream",
     "text": [
      "Early stopping, best iteration is:\n",
      "[293]\ttraining's rmse: 0.16883\tvalid_1's rmse: 0.251465\n"
     ]
    },
    {
     "name": "stderr",
     "output_type": "stream",
     "text": [
      "spearmanr: 0.7693743656317259\n",
      "len(trn_idx) : 4862\n",
      "len(val_idx) : 1217\n"
     ]
    },
    {
     "name": "stdout",
     "output_type": "stream",
     "text": [
      "Training until validation scores don't improve for 100 rounds\n"
     ]
    },
    {
     "name": "stderr",
     "output_type": "stream",
     "text": [
      "Dumping model with pickle... question_type_instructions_lightgbm_fold2.pkl\n"
     ]
    },
    {
     "name": "stdout",
     "output_type": "stream",
     "text": [
      "Early stopping, best iteration is:\n",
      "[331]\ttraining's rmse: 0.176611\tvalid_1's rmse: 0.239276\n"
     ]
    },
    {
     "name": "stderr",
     "output_type": "stream",
     "text": [
      "spearmanr: 0.7949444064308596\n",
      "len(trn_idx) : 4866\n",
      "len(val_idx) : 1213\n"
     ]
    },
    {
     "name": "stdout",
     "output_type": "stream",
     "text": [
      "Training until validation scores don't improve for 100 rounds\n"
     ]
    },
    {
     "name": "stderr",
     "output_type": "stream",
     "text": [
      "Dumping model with pickle... question_type_instructions_lightgbm_fold3.pkl\n"
     ]
    },
    {
     "name": "stdout",
     "output_type": "stream",
     "text": [
      "Early stopping, best iteration is:\n",
      "[224]\ttraining's rmse: 0.180768\tvalid_1's rmse: 0.253295\n"
     ]
    },
    {
     "name": "stderr",
     "output_type": "stream",
     "text": [
      "spearmanr: 0.767905088675597\n",
      "len(trn_idx) : 4856\n",
      "len(val_idx) : 1223\n"
     ]
    },
    {
     "name": "stdout",
     "output_type": "stream",
     "text": [
      "Training until validation scores don't improve for 100 rounds\n"
     ]
    },
    {
     "name": "stderr",
     "output_type": "stream",
     "text": [
      "Dumping model with pickle... question_type_instructions_lightgbm_fold4.pkl\n"
     ]
    },
    {
     "name": "stdout",
     "output_type": "stream",
     "text": [
      "Early stopping, best iteration is:\n",
      "[288]\ttraining's rmse: 0.170116\tvalid_1's rmse: 0.251455\n"
     ]
    },
    {
     "name": "stderr",
     "output_type": "stream",
     "text": [
      "spearmanr: 0.7834705163929171\n",
      "============================================================================\n",
      "target: question_type_instructions  LGB CV spearmanr: 0.7789911345645217\n",
      "============================================================================\n",
      "============================================================================\n",
      "target: question_type_procedure  nn CV spearmanr: 0.33924962978025414\n",
      "============================================================================\n",
      "len(trn_idx) : 4866\n",
      "len(val_idx) : 1213\n"
     ]
    },
    {
     "name": "stdout",
     "output_type": "stream",
     "text": [
      "Training until validation scores don't improve for 100 rounds\n"
     ]
    },
    {
     "name": "stderr",
     "output_type": "stream",
     "text": [
      "Dumping model with pickle... question_type_procedure_lightgbm_fold0.pkl\n"
     ]
    },
    {
     "name": "stdout",
     "output_type": "stream",
     "text": [
      "Early stopping, best iteration is:\n",
      "[200]\ttraining's rmse: 0.208414\tvalid_1's rmse: 0.24703\n"
     ]
    },
    {
     "name": "stderr",
     "output_type": "stream",
     "text": [
      "spearmanr: 0.35624497038862285\n",
      "len(trn_idx) : 4866\n",
      "len(val_idx) : 1213\n"
     ]
    },
    {
     "name": "stdout",
     "output_type": "stream",
     "text": [
      "Training until validation scores don't improve for 100 rounds\n"
     ]
    },
    {
     "name": "stderr",
     "output_type": "stream",
     "text": [
      "Dumping model with pickle... question_type_procedure_lightgbm_fold1.pkl\n"
     ]
    },
    {
     "name": "stdout",
     "output_type": "stream",
     "text": [
      "Early stopping, best iteration is:\n",
      "[92]\ttraining's rmse: 0.214728\tvalid_1's rmse: 0.243971\n"
     ]
    },
    {
     "name": "stderr",
     "output_type": "stream",
     "text": [
      "spearmanr: 0.3090674293981698\n",
      "len(trn_idx) : 4862\n",
      "len(val_idx) : 1217\n"
     ]
    },
    {
     "name": "stdout",
     "output_type": "stream",
     "text": [
      "Training until validation scores don't improve for 100 rounds\n"
     ]
    },
    {
     "name": "stderr",
     "output_type": "stream",
     "text": [
      "Dumping model with pickle... question_type_procedure_lightgbm_fold2.pkl\n"
     ]
    },
    {
     "name": "stdout",
     "output_type": "stream",
     "text": [
      "Early stopping, best iteration is:\n",
      "[94]\ttraining's rmse: 0.218331\tvalid_1's rmse: 0.245112\n"
     ]
    },
    {
     "name": "stderr",
     "output_type": "stream",
     "text": [
      "spearmanr: 0.30176448984274024\n",
      "len(trn_idx) : 4866\n",
      "len(val_idx) : 1213\n"
     ]
    },
    {
     "name": "stdout",
     "output_type": "stream",
     "text": [
      "Training until validation scores don't improve for 100 rounds\n"
     ]
    },
    {
     "name": "stderr",
     "output_type": "stream",
     "text": [
      "Dumping model with pickle... question_type_procedure_lightgbm_fold3.pkl\n"
     ]
    },
    {
     "name": "stdout",
     "output_type": "stream",
     "text": [
      "Early stopping, best iteration is:\n",
      "[90]\ttraining's rmse: 0.220206\tvalid_1's rmse: 0.230886\n"
     ]
    },
    {
     "name": "stderr",
     "output_type": "stream",
     "text": [
      "spearmanr: 0.3242704297742075\n",
      "len(trn_idx) : 4856\n",
      "len(val_idx) : 1223\n"
     ]
    },
    {
     "name": "stdout",
     "output_type": "stream",
     "text": [
      "Training until validation scores don't improve for 100 rounds\n"
     ]
    },
    {
     "name": "stderr",
     "output_type": "stream",
     "text": [
      "Dumping model with pickle... question_type_procedure_lightgbm_fold4.pkl\n"
     ]
    },
    {
     "name": "stdout",
     "output_type": "stream",
     "text": [
      "Early stopping, best iteration is:\n",
      "[111]\ttraining's rmse: 0.208508\tvalid_1's rmse: 0.259222\n"
     ]
    },
    {
     "name": "stderr",
     "output_type": "stream",
     "text": [
      "spearmanr: 0.32013209659363584\n",
      "============================================================================\n",
      "target: question_type_procedure  LGB CV spearmanr: 0.32019125404200394\n",
      "============================================================================\n",
      "============================================================================\n",
      "target: question_type_reason_explanation  nn CV spearmanr: 0.6619755144312314\n",
      "============================================================================\n",
      "len(trn_idx) : 4866\n",
      "len(val_idx) : 1213\n"
     ]
    },
    {
     "name": "stdout",
     "output_type": "stream",
     "text": [
      "Training until validation scores don't improve for 100 rounds\n"
     ]
    },
    {
     "name": "stderr",
     "output_type": "stream",
     "text": [
      "Dumping model with pickle... question_type_reason_explanation_lightgbm_fold0.pkl\n"
     ]
    },
    {
     "name": "stdout",
     "output_type": "stream",
     "text": [
      "Early stopping, best iteration is:\n",
      "[264]\ttraining's rmse: 0.203785\tvalid_1's rmse: 0.266107\n"
     ]
    },
    {
     "name": "stderr",
     "output_type": "stream",
     "text": [
      "spearmanr: 0.7000636377699968\n",
      "len(trn_idx) : 4866\n",
      "len(val_idx) : 1213\n"
     ]
    },
    {
     "name": "stdout",
     "output_type": "stream",
     "text": [
      "Training until validation scores don't improve for 100 rounds\n"
     ]
    },
    {
     "name": "stderr",
     "output_type": "stream",
     "text": [
      "Dumping model with pickle... question_type_reason_explanation_lightgbm_fold1.pkl\n"
     ]
    },
    {
     "name": "stdout",
     "output_type": "stream",
     "text": [
      "Early stopping, best iteration is:\n",
      "[205]\ttraining's rmse: 0.194893\tvalid_1's rmse: 0.271964\n"
     ]
    },
    {
     "name": "stderr",
     "output_type": "stream",
     "text": [
      "spearmanr: 0.6571216149951388\n",
      "len(trn_idx) : 4862\n",
      "len(val_idx) : 1217\n"
     ]
    },
    {
     "name": "stdout",
     "output_type": "stream",
     "text": [
      "Training until validation scores don't improve for 100 rounds\n"
     ]
    },
    {
     "name": "stderr",
     "output_type": "stream",
     "text": [
      "Dumping model with pickle... question_type_reason_explanation_lightgbm_fold2.pkl\n"
     ]
    },
    {
     "name": "stdout",
     "output_type": "stream",
     "text": [
      "Early stopping, best iteration is:\n",
      "[176]\ttraining's rmse: 0.213136\tvalid_1's rmse: 0.281943\n"
     ]
    },
    {
     "name": "stderr",
     "output_type": "stream",
     "text": [
      "spearmanr: 0.652964649491789\n",
      "len(trn_idx) : 4866\n",
      "len(val_idx) : 1213\n"
     ]
    },
    {
     "name": "stdout",
     "output_type": "stream",
     "text": [
      "Training until validation scores don't improve for 100 rounds\n"
     ]
    },
    {
     "name": "stderr",
     "output_type": "stream",
     "text": [
      "Dumping model with pickle... question_type_reason_explanation_lightgbm_fold3.pkl\n"
     ]
    },
    {
     "name": "stdout",
     "output_type": "stream",
     "text": [
      "Early stopping, best iteration is:\n",
      "[181]\ttraining's rmse: 0.195439\tvalid_1's rmse: 0.286898\n"
     ]
    },
    {
     "name": "stderr",
     "output_type": "stream",
     "text": [
      "spearmanr: 0.6371736831490898\n",
      "len(trn_idx) : 4856\n",
      "len(val_idx) : 1223\n"
     ]
    },
    {
     "name": "stdout",
     "output_type": "stream",
     "text": [
      "Training until validation scores don't improve for 100 rounds\n"
     ]
    },
    {
     "name": "stderr",
     "output_type": "stream",
     "text": [
      "Dumping model with pickle... question_type_reason_explanation_lightgbm_fold4.pkl\n"
     ]
    },
    {
     "name": "stdout",
     "output_type": "stream",
     "text": [
      "Early stopping, best iteration is:\n",
      "[202]\ttraining's rmse: 0.197252\tvalid_1's rmse: 0.280508\n"
     ]
    },
    {
     "name": "stderr",
     "output_type": "stream",
     "text": [
      "spearmanr: 0.6681918491187592\n",
      "============================================================================\n",
      "target: question_type_reason_explanation  LGB CV spearmanr: 0.662789242165439\n",
      "============================================================================\n",
      "============================================================================\n",
      "target: question_type_spelling  nn CV spearmanr: 0.05960248212045174\n",
      "============================================================================\n",
      "len(trn_idx) : 4866\n",
      "len(val_idx) : 1213\n"
     ]
    },
    {
     "name": "stdout",
     "output_type": "stream",
     "text": [
      "Training until validation scores don't improve for 100 rounds\n"
     ]
    },
    {
     "name": "stderr",
     "output_type": "stream",
     "text": [
      "Dumping model with pickle... question_type_spelling_lightgbm_fold0.pkl\n"
     ]
    },
    {
     "name": "stdout",
     "output_type": "stream",
     "text": [
      "Early stopping, best iteration is:\n",
      "[356]\ttraining's rmse: 0.00916098\tvalid_1's rmse: 0.0131027\n"
     ]
    },
    {
     "name": "stderr",
     "output_type": "stream",
     "text": [
      "spearmanr: 0.06998262841793218\n",
      "len(trn_idx) : 4866\n",
      "len(val_idx) : 1213\n"
     ]
    },
    {
     "name": "stdout",
     "output_type": "stream",
     "text": [
      "Training until validation scores don't improve for 100 rounds\n"
     ]
    },
    {
     "name": "stderr",
     "output_type": "stream",
     "text": [
      "Dumping model with pickle... question_type_spelling_lightgbm_fold1.pkl\n"
     ]
    },
    {
     "name": "stdout",
     "output_type": "stream",
     "text": [
      "Early stopping, best iteration is:\n",
      "[256]\ttraining's rmse: 0.00922217\tvalid_1's rmse: 0.0202406\n"
     ]
    },
    {
     "name": "stderr",
     "output_type": "stream",
     "text": [
      "spearmanr: 0.0702531034332522\n",
      "len(trn_idx) : 4862\n",
      "len(val_idx) : 1217\n"
     ]
    },
    {
     "name": "stdout",
     "output_type": "stream",
     "text": [
      "Training until validation scores don't improve for 100 rounds\n"
     ]
    },
    {
     "name": "stderr",
     "output_type": "stream",
     "text": [
      "Dumping model with pickle... question_type_spelling_lightgbm_fold2.pkl\n"
     ]
    },
    {
     "name": "stdout",
     "output_type": "stream",
     "text": [
      "Early stopping, best iteration is:\n",
      "[48]\ttraining's rmse: 0.020491\tvalid_1's rmse: 0.0164932\n"
     ]
    },
    {
     "name": "stderr",
     "output_type": "stream",
     "text": [
      "spearmanr: 0.08717009799409103\n",
      "len(trn_idx) : 4866\n",
      "len(val_idx) : 1213\n"
     ]
    },
    {
     "name": "stdout",
     "output_type": "stream",
     "text": [
      "Training until validation scores don't improve for 100 rounds\n"
     ]
    },
    {
     "name": "stderr",
     "output_type": "stream",
     "text": [
      "Dumping model with pickle... question_type_spelling_lightgbm_fold3.pkl\n"
     ]
    },
    {
     "name": "stdout",
     "output_type": "stream",
     "text": [
      "Early stopping, best iteration is:\n",
      "[317]\ttraining's rmse: 0.00876988\tvalid_1's rmse: 0.0189893\n"
     ]
    },
    {
     "name": "stderr",
     "output_type": "stream",
     "text": [
      "spearmanr: 0.07015892041292077\n",
      "len(trn_idx) : 4856\n",
      "len(val_idx) : 1223\n"
     ]
    },
    {
     "name": "stdout",
     "output_type": "stream",
     "text": [
      "Training until validation scores don't improve for 100 rounds\n"
     ]
    },
    {
     "name": "stderr",
     "output_type": "stream",
     "text": [
      "Dumping model with pickle... question_type_spelling_lightgbm_fold4.pkl\n"
     ]
    },
    {
     "name": "stdout",
     "output_type": "stream",
     "text": [
      "Early stopping, best iteration is:\n",
      "[177]\ttraining's rmse: 0.0111534\tvalid_1's rmse: 0.0267229\n"
     ]
    },
    {
     "name": "stderr",
     "output_type": "stream",
     "text": [
      "spearmanr: 0.06179494548654907\n",
      "============================================================================\n",
      "target: question_type_spelling  LGB CV spearmanr: 0.07000536195552166\n",
      "============================================================================\n",
      "============================================================================\n",
      "target: question_well_written  nn CV spearmanr: 0.5134291541501504\n",
      "============================================================================\n",
      "len(trn_idx) : 4866\n",
      "len(val_idx) : 1213\n"
     ]
    },
    {
     "name": "stdout",
     "output_type": "stream",
     "text": [
      "Training until validation scores don't improve for 100 rounds\n"
     ]
    },
    {
     "name": "stderr",
     "output_type": "stream",
     "text": [
      "Dumping model with pickle... question_well_written_lightgbm_fold0.pkl\n"
     ]
    },
    {
     "name": "stdout",
     "output_type": "stream",
     "text": [
      "Early stopping, best iteration is:\n",
      "[246]\ttraining's rmse: 0.127364\tvalid_1's rmse: 0.151403\n"
     ]
    },
    {
     "name": "stderr",
     "output_type": "stream",
     "text": [
      "spearmanr: 0.5331450583559102\n",
      "len(trn_idx) : 4866\n",
      "len(val_idx) : 1213\n"
     ]
    },
    {
     "name": "stdout",
     "output_type": "stream",
     "text": [
      "Training until validation scores don't improve for 100 rounds\n"
     ]
    },
    {
     "name": "stderr",
     "output_type": "stream",
     "text": [
      "Dumping model with pickle... question_well_written_lightgbm_fold1.pkl\n"
     ]
    },
    {
     "name": "stdout",
     "output_type": "stream",
     "text": [
      "Early stopping, best iteration is:\n",
      "[185]\ttraining's rmse: 0.128197\tvalid_1's rmse: 0.149991\n"
     ]
    },
    {
     "name": "stderr",
     "output_type": "stream",
     "text": [
      "spearmanr: 0.5174264900267327\n",
      "len(trn_idx) : 4862\n",
      "len(val_idx) : 1217\n"
     ]
    },
    {
     "name": "stdout",
     "output_type": "stream",
     "text": [
      "Training until validation scores don't improve for 100 rounds\n"
     ]
    },
    {
     "name": "stderr",
     "output_type": "stream",
     "text": [
      "Dumping model with pickle... question_well_written_lightgbm_fold2.pkl\n"
     ]
    },
    {
     "name": "stdout",
     "output_type": "stream",
     "text": [
      "Early stopping, best iteration is:\n",
      "[264]\ttraining's rmse: 0.125903\tvalid_1's rmse: 0.150881\n"
     ]
    },
    {
     "name": "stderr",
     "output_type": "stream",
     "text": [
      "spearmanr: 0.5464790834076202\n",
      "len(trn_idx) : 4866\n",
      "len(val_idx) : 1213\n"
     ]
    },
    {
     "name": "stdout",
     "output_type": "stream",
     "text": [
      "Training until validation scores don't improve for 100 rounds\n"
     ]
    },
    {
     "name": "stderr",
     "output_type": "stream",
     "text": [
      "Dumping model with pickle... question_well_written_lightgbm_fold3.pkl\n"
     ]
    },
    {
     "name": "stdout",
     "output_type": "stream",
     "text": [
      "Early stopping, best iteration is:\n",
      "[330]\ttraining's rmse: 0.118997\tvalid_1's rmse: 0.153287\n"
     ]
    },
    {
     "name": "stderr",
     "output_type": "stream",
     "text": [
      "spearmanr: 0.50865720380806\n",
      "len(trn_idx) : 4856\n",
      "len(val_idx) : 1223\n"
     ]
    },
    {
     "name": "stdout",
     "output_type": "stream",
     "text": [
      "Training until validation scores don't improve for 100 rounds\n"
     ]
    },
    {
     "name": "stderr",
     "output_type": "stream",
     "text": [
      "Dumping model with pickle... question_well_written_lightgbm_fold4.pkl\n"
     ]
    },
    {
     "name": "stdout",
     "output_type": "stream",
     "text": [
      "Early stopping, best iteration is:\n",
      "[288]\ttraining's rmse: 0.121698\tvalid_1's rmse: 0.150274\n"
     ]
    },
    {
     "name": "stderr",
     "output_type": "stream",
     "text": [
      "spearmanr: 0.5622144005689097\n",
      "============================================================================\n",
      "target: question_well_written  LGB CV spearmanr: 0.5321781679818788\n",
      "============================================================================\n",
      "============================================================================\n",
      "target: answer_helpful  nn CV spearmanr: 0.2326194482460504\n",
      "============================================================================\n",
      "len(trn_idx) : 4866\n",
      "len(val_idx) : 1213\n"
     ]
    },
    {
     "name": "stdout",
     "output_type": "stream",
     "text": [
      "Training until validation scores don't improve for 100 rounds\n"
     ]
    },
    {
     "name": "stderr",
     "output_type": "stream",
     "text": [
      "Dumping model with pickle... answer_helpful_lightgbm_fold0.pkl\n"
     ]
    },
    {
     "name": "stdout",
     "output_type": "stream",
     "text": [
      "Early stopping, best iteration is:\n",
      "[83]\ttraining's rmse: 0.102308\tvalid_1's rmse: 0.101928\n"
     ]
    },
    {
     "name": "stderr",
     "output_type": "stream",
     "text": [
      "spearmanr: 0.2556307039866055\n",
      "len(trn_idx) : 4866\n",
      "len(val_idx) : 1213\n"
     ]
    },
    {
     "name": "stdout",
     "output_type": "stream",
     "text": [
      "Training until validation scores don't improve for 100 rounds\n"
     ]
    },
    {
     "name": "stderr",
     "output_type": "stream",
     "text": [
      "Dumping model with pickle... answer_helpful_lightgbm_fold1.pkl\n"
     ]
    },
    {
     "name": "stdout",
     "output_type": "stream",
     "text": [
      "Early stopping, best iteration is:\n",
      "[95]\ttraining's rmse: 0.0960005\tvalid_1's rmse: 0.115306\n"
     ]
    },
    {
     "name": "stderr",
     "output_type": "stream",
     "text": [
      "spearmanr: 0.2233870906958493\n",
      "len(trn_idx) : 4862\n",
      "len(val_idx) : 1217\n"
     ]
    },
    {
     "name": "stdout",
     "output_type": "stream",
     "text": [
      "Training until validation scores don't improve for 100 rounds\n"
     ]
    },
    {
     "name": "stderr",
     "output_type": "stream",
     "text": [
      "Dumping model with pickle... answer_helpful_lightgbm_fold2.pkl\n"
     ]
    },
    {
     "name": "stdout",
     "output_type": "stream",
     "text": [
      "Early stopping, best iteration is:\n",
      "[117]\ttraining's rmse: 0.0994713\tvalid_1's rmse: 0.112981\n"
     ]
    },
    {
     "name": "stderr",
     "output_type": "stream",
     "text": [
      "spearmanr: 0.25952243125130325\n",
      "len(trn_idx) : 4866\n",
      "len(val_idx) : 1213\n"
     ]
    },
    {
     "name": "stdout",
     "output_type": "stream",
     "text": [
      "Training until validation scores don't improve for 100 rounds\n"
     ]
    },
    {
     "name": "stderr",
     "output_type": "stream",
     "text": [
      "Dumping model with pickle... answer_helpful_lightgbm_fold3.pkl\n"
     ]
    },
    {
     "name": "stdout",
     "output_type": "stream",
     "text": [
      "Early stopping, best iteration is:\n",
      "[133]\ttraining's rmse: 0.0949407\tvalid_1's rmse: 0.11264\n"
     ]
    },
    {
     "name": "stderr",
     "output_type": "stream",
     "text": [
      "spearmanr: 0.2545733463869552\n",
      "len(trn_idx) : 4856\n",
      "len(val_idx) : 1223\n"
     ]
    },
    {
     "name": "stdout",
     "output_type": "stream",
     "text": [
      "Training until validation scores don't improve for 100 rounds\n"
     ]
    },
    {
     "name": "stderr",
     "output_type": "stream",
     "text": [
      "Dumping model with pickle... answer_helpful_lightgbm_fold4.pkl\n"
     ]
    },
    {
     "name": "stdout",
     "output_type": "stream",
     "text": [
      "Early stopping, best iteration is:\n",
      "[46]\ttraining's rmse: 0.102052\tvalid_1's rmse: 0.113901\n"
     ]
    },
    {
     "name": "stderr",
     "output_type": "stream",
     "text": [
      "spearmanr: 0.18803202751834555\n",
      "============================================================================\n",
      "target: answer_helpful  LGB CV spearmanr: 0.23493687190377152\n",
      "============================================================================\n",
      "============================================================================\n",
      "target: answer_level_of_information  nn CV spearmanr: 0.4045353524275094\n",
      "============================================================================\n",
      "len(trn_idx) : 4866\n",
      "len(val_idx) : 1213\n"
     ]
    },
    {
     "name": "stdout",
     "output_type": "stream",
     "text": [
      "Training until validation scores don't improve for 100 rounds\n"
     ]
    },
    {
     "name": "stderr",
     "output_type": "stream",
     "text": [
      "Dumping model with pickle... answer_level_of_information_lightgbm_fold0.pkl\n"
     ]
    },
    {
     "name": "stdout",
     "output_type": "stream",
     "text": [
      "Early stopping, best iteration is:\n",
      "[271]\ttraining's rmse: 0.0861353\tvalid_1's rmse: 0.0885762\n"
     ]
    },
    {
     "name": "stderr",
     "output_type": "stream",
     "text": [
      "spearmanr: 0.41619786310977175\n",
      "len(trn_idx) : 4866\n",
      "len(val_idx) : 1213\n"
     ]
    },
    {
     "name": "stdout",
     "output_type": "stream",
     "text": [
      "Training until validation scores don't improve for 100 rounds\n"
     ]
    },
    {
     "name": "stderr",
     "output_type": "stream",
     "text": [
      "Dumping model with pickle... answer_level_of_information_lightgbm_fold1.pkl\n"
     ]
    },
    {
     "name": "stdout",
     "output_type": "stream",
     "text": [
      "Early stopping, best iteration is:\n",
      "[423]\ttraining's rmse: 0.0812273\tvalid_1's rmse: 0.101886\n"
     ]
    },
    {
     "name": "stderr",
     "output_type": "stream",
     "text": [
      "spearmanr: 0.4695692687267564\n",
      "len(trn_idx) : 4862\n",
      "len(val_idx) : 1217\n"
     ]
    },
    {
     "name": "stdout",
     "output_type": "stream",
     "text": [
      "Training until validation scores don't improve for 100 rounds\n"
     ]
    },
    {
     "name": "stderr",
     "output_type": "stream",
     "text": [
      "Dumping model with pickle... answer_level_of_information_lightgbm_fold2.pkl\n"
     ]
    },
    {
     "name": "stdout",
     "output_type": "stream",
     "text": [
      "Early stopping, best iteration is:\n",
      "[380]\ttraining's rmse: 0.0845235\tvalid_1's rmse: 0.0939244\n"
     ]
    },
    {
     "name": "stderr",
     "output_type": "stream",
     "text": [
      "spearmanr: 0.48345969797236416\n",
      "len(trn_idx) : 4866\n",
      "len(val_idx) : 1213\n"
     ]
    },
    {
     "name": "stdout",
     "output_type": "stream",
     "text": [
      "Training until validation scores don't improve for 100 rounds\n"
     ]
    },
    {
     "name": "stderr",
     "output_type": "stream",
     "text": [
      "Dumping model with pickle... answer_level_of_information_lightgbm_fold3.pkl\n"
     ]
    },
    {
     "name": "stdout",
     "output_type": "stream",
     "text": [
      "Early stopping, best iteration is:\n",
      "[373]\ttraining's rmse: 0.0830017\tvalid_1's rmse: 0.0965661\n"
     ]
    },
    {
     "name": "stderr",
     "output_type": "stream",
     "text": [
      "spearmanr: 0.4352669147403801\n",
      "len(trn_idx) : 4856\n",
      "len(val_idx) : 1223\n"
     ]
    },
    {
     "name": "stdout",
     "output_type": "stream",
     "text": [
      "Training until validation scores don't improve for 100 rounds\n"
     ]
    },
    {
     "name": "stderr",
     "output_type": "stream",
     "text": [
      "Dumping model with pickle... answer_level_of_information_lightgbm_fold4.pkl\n"
     ]
    },
    {
     "name": "stdout",
     "output_type": "stream",
     "text": [
      "Early stopping, best iteration is:\n",
      "[229]\ttraining's rmse: 0.0843507\tvalid_1's rmse: 0.0955245\n"
     ]
    },
    {
     "name": "stderr",
     "output_type": "stream",
     "text": [
      "spearmanr: 0.41092976222482996\n",
      "============================================================================\n",
      "target: answer_level_of_information  LGB CV spearmanr: 0.43852602723256545\n",
      "============================================================================\n",
      "============================================================================\n",
      "target: answer_plausible  nn CV spearmanr: 0.14756778847325008\n",
      "============================================================================\n",
      "len(trn_idx) : 4866\n",
      "len(val_idx) : 1213\n"
     ]
    },
    {
     "name": "stdout",
     "output_type": "stream",
     "text": [
      "Training until validation scores don't improve for 100 rounds\n"
     ]
    },
    {
     "name": "stderr",
     "output_type": "stream",
     "text": [
      "Dumping model with pickle... answer_plausible_lightgbm_fold0.pkl\n"
     ]
    },
    {
     "name": "stdout",
     "output_type": "stream",
     "text": [
      "Early stopping, best iteration is:\n",
      "[89]\ttraining's rmse: 0.0799322\tvalid_1's rmse: 0.0818893\n"
     ]
    },
    {
     "name": "stderr",
     "output_type": "stream",
     "text": [
      "spearmanr: 0.13229215007474204\n",
      "len(trn_idx) : 4866\n",
      "len(val_idx) : 1213\n"
     ]
    },
    {
     "name": "stdout",
     "output_type": "stream",
     "text": [
      "Training until validation scores don't improve for 100 rounds\n"
     ]
    },
    {
     "name": "stderr",
     "output_type": "stream",
     "text": [
      "Dumping model with pickle... answer_plausible_lightgbm_fold1.pkl\n"
     ]
    },
    {
     "name": "stdout",
     "output_type": "stream",
     "text": [
      "Early stopping, best iteration is:\n",
      "[48]\ttraining's rmse: 0.0808954\tvalid_1's rmse: 0.0861389\n"
     ]
    },
    {
     "name": "stderr",
     "output_type": "stream",
     "text": [
      "spearmanr: 0.12058327031199981\n",
      "len(trn_idx) : 4862\n",
      "len(val_idx) : 1217\n"
     ]
    },
    {
     "name": "stdout",
     "output_type": "stream",
     "text": [
      "Training until validation scores don't improve for 100 rounds\n"
     ]
    },
    {
     "name": "stderr",
     "output_type": "stream",
     "text": [
      "Dumping model with pickle... answer_plausible_lightgbm_fold2.pkl\n"
     ]
    },
    {
     "name": "stdout",
     "output_type": "stream",
     "text": [
      "Early stopping, best iteration is:\n",
      "[89]\ttraining's rmse: 0.0794901\tvalid_1's rmse: 0.0868446\n"
     ]
    },
    {
     "name": "stderr",
     "output_type": "stream",
     "text": [
      "spearmanr: 0.1284029312916684\n",
      "len(trn_idx) : 4866\n",
      "len(val_idx) : 1213\n"
     ]
    },
    {
     "name": "stdout",
     "output_type": "stream",
     "text": [
      "Training until validation scores don't improve for 100 rounds\n"
     ]
    },
    {
     "name": "stderr",
     "output_type": "stream",
     "text": [
      "Dumping model with pickle... answer_plausible_lightgbm_fold3.pkl\n"
     ]
    },
    {
     "name": "stdout",
     "output_type": "stream",
     "text": [
      "Early stopping, best iteration is:\n",
      "[121]\ttraining's rmse: 0.0765733\tvalid_1's rmse: 0.0860268\n"
     ]
    },
    {
     "name": "stderr",
     "output_type": "stream",
     "text": [
      "spearmanr: 0.20085315099854598\n",
      "len(trn_idx) : 4856\n",
      "len(val_idx) : 1223\n"
     ]
    },
    {
     "name": "stdout",
     "output_type": "stream",
     "text": [
      "Training until validation scores don't improve for 100 rounds\n"
     ]
    },
    {
     "name": "stderr",
     "output_type": "stream",
     "text": [
      "Dumping model with pickle... answer_plausible_lightgbm_fold4.pkl\n"
     ]
    },
    {
     "name": "stdout",
     "output_type": "stream",
     "text": [
      "Early stopping, best iteration is:\n",
      "[34]\ttraining's rmse: 0.0811025\tvalid_1's rmse: 0.0880301\n"
     ]
    },
    {
     "name": "stderr",
     "output_type": "stream",
     "text": [
      "spearmanr: 0.15404831231223615\n",
      "============================================================================\n",
      "target: answer_plausible  LGB CV spearmanr: 0.14290326851505897\n",
      "============================================================================\n",
      "============================================================================\n",
      "target: answer_relevance  nn CV spearmanr: 0.15724796880681385\n",
      "============================================================================\n",
      "len(trn_idx) : 4866\n",
      "len(val_idx) : 1213\n"
     ]
    },
    {
     "name": "stdout",
     "output_type": "stream",
     "text": [
      "Training until validation scores don't improve for 100 rounds\n"
     ]
    },
    {
     "name": "stderr",
     "output_type": "stream",
     "text": [
      "Dumping model with pickle... answer_relevance_lightgbm_fold0.pkl\n"
     ]
    },
    {
     "name": "stdout",
     "output_type": "stream",
     "text": [
      "Early stopping, best iteration is:\n",
      "[108]\ttraining's rmse: 0.0659049\tvalid_1's rmse: 0.0662811\n"
     ]
    },
    {
     "name": "stderr",
     "output_type": "stream",
     "text": [
      "spearmanr: 0.15167993653779652\n",
      "len(trn_idx) : 4866\n",
      "len(val_idx) : 1213\n"
     ]
    },
    {
     "name": "stdout",
     "output_type": "stream",
     "text": [
      "Training until validation scores don't improve for 100 rounds\n"
     ]
    },
    {
     "name": "stderr",
     "output_type": "stream",
     "text": [
      "Dumping model with pickle... answer_relevance_lightgbm_fold1.pkl\n"
     ]
    },
    {
     "name": "stdout",
     "output_type": "stream",
     "text": [
      "Early stopping, best iteration is:\n",
      "[65]\ttraining's rmse: 0.0660854\tvalid_1's rmse: 0.0754741\n"
     ]
    },
    {
     "name": "stderr",
     "output_type": "stream",
     "text": [
      "spearmanr: 0.12731461142342787\n",
      "len(trn_idx) : 4862\n",
      "len(val_idx) : 1217\n"
     ]
    },
    {
     "name": "stdout",
     "output_type": "stream",
     "text": [
      "Training until validation scores don't improve for 100 rounds\n"
     ]
    },
    {
     "name": "stderr",
     "output_type": "stream",
     "text": [
      "Dumping model with pickle... answer_relevance_lightgbm_fold2.pkl\n"
     ]
    },
    {
     "name": "stdout",
     "output_type": "stream",
     "text": [
      "Early stopping, best iteration is:\n",
      "[92]\ttraining's rmse: 0.0674132\tvalid_1's rmse: 0.0696176\n"
     ]
    },
    {
     "name": "stderr",
     "output_type": "stream",
     "text": [
      "spearmanr: 0.19703654004808693\n",
      "len(trn_idx) : 4866\n",
      "len(val_idx) : 1213\n"
     ]
    },
    {
     "name": "stdout",
     "output_type": "stream",
     "text": [
      "Training until validation scores don't improve for 100 rounds\n"
     ]
    },
    {
     "name": "stderr",
     "output_type": "stream",
     "text": [
      "Dumping model with pickle... answer_relevance_lightgbm_fold3.pkl\n"
     ]
    },
    {
     "name": "stdout",
     "output_type": "stream",
     "text": [
      "Early stopping, best iteration is:\n",
      "[129]\ttraining's rmse: 0.0609432\tvalid_1's rmse: 0.0807193\n"
     ]
    },
    {
     "name": "stderr",
     "output_type": "stream",
     "text": [
      "spearmanr: 0.1773690527435669\n",
      "len(trn_idx) : 4856\n",
      "len(val_idx) : 1223\n"
     ]
    },
    {
     "name": "stdout",
     "output_type": "stream",
     "text": [
      "Training until validation scores don't improve for 100 rounds\n"
     ]
    },
    {
     "name": "stderr",
     "output_type": "stream",
     "text": [
      "Dumping model with pickle... answer_relevance_lightgbm_fold4.pkl\n"
     ]
    },
    {
     "name": "stdout",
     "output_type": "stream",
     "text": [
      "Early stopping, best iteration is:\n",
      "[60]\ttraining's rmse: 0.0664648\tvalid_1's rmse: 0.0729572\n"
     ]
    },
    {
     "name": "stderr",
     "output_type": "stream",
     "text": [
      "spearmanr: 0.13235861486737602\n",
      "============================================================================\n",
      "target: answer_relevance  LGB CV spearmanr: 0.15497807008175388\n",
      "============================================================================\n",
      "============================================================================\n",
      "target: answer_satisfaction  nn CV spearmanr: 0.3025967649057861\n",
      "============================================================================\n",
      "len(trn_idx) : 4866\n",
      "len(val_idx) : 1213\n"
     ]
    },
    {
     "name": "stdout",
     "output_type": "stream",
     "text": [
      "Training until validation scores don't improve for 100 rounds\n"
     ]
    },
    {
     "name": "stderr",
     "output_type": "stream",
     "text": [
      "Dumping model with pickle... answer_satisfaction_lightgbm_fold0.pkl\n"
     ]
    },
    {
     "name": "stdout",
     "output_type": "stream",
     "text": [
      "Early stopping, best iteration is:\n",
      "[130]\ttraining's rmse: 0.107215\tvalid_1's rmse: 0.115399\n"
     ]
    },
    {
     "name": "stderr",
     "output_type": "stream",
     "text": [
      "spearmanr: 0.2852543963064466\n",
      "len(trn_idx) : 4866\n",
      "len(val_idx) : 1213\n"
     ]
    },
    {
     "name": "stdout",
     "output_type": "stream",
     "text": [
      "Training until validation scores don't improve for 100 rounds\n"
     ]
    },
    {
     "name": "stderr",
     "output_type": "stream",
     "text": [
      "Dumping model with pickle... answer_satisfaction_lightgbm_fold1.pkl\n"
     ]
    },
    {
     "name": "stdout",
     "output_type": "stream",
     "text": [
      "Early stopping, best iteration is:\n",
      "[208]\ttraining's rmse: 0.0983729\tvalid_1's rmse: 0.123756\n"
     ]
    },
    {
     "name": "stderr",
     "output_type": "stream",
     "text": [
      "spearmanr: 0.28484879532546725\n",
      "len(trn_idx) : 4862\n",
      "len(val_idx) : 1217\n"
     ]
    },
    {
     "name": "stdout",
     "output_type": "stream",
     "text": [
      "Training until validation scores don't improve for 100 rounds\n"
     ]
    },
    {
     "name": "stderr",
     "output_type": "stream",
     "text": [
      "Dumping model with pickle... answer_satisfaction_lightgbm_fold2.pkl\n"
     ]
    },
    {
     "name": "stdout",
     "output_type": "stream",
     "text": [
      "Early stopping, best iteration is:\n",
      "[170]\ttraining's rmse: 0.105456\tvalid_1's rmse: 0.124291\n"
     ]
    },
    {
     "name": "stderr",
     "output_type": "stream",
     "text": [
      "spearmanr: 0.32777399588225514\n",
      "len(trn_idx) : 4866\n",
      "len(val_idx) : 1213\n"
     ]
    },
    {
     "name": "stdout",
     "output_type": "stream",
     "text": [
      "Training until validation scores don't improve for 100 rounds\n"
     ]
    },
    {
     "name": "stderr",
     "output_type": "stream",
     "text": [
      "Dumping model with pickle... answer_satisfaction_lightgbm_fold3.pkl\n"
     ]
    },
    {
     "name": "stdout",
     "output_type": "stream",
     "text": [
      "Early stopping, best iteration is:\n",
      "[188]\ttraining's rmse: 0.0995646\tvalid_1's rmse: 0.130771\n"
     ]
    },
    {
     "name": "stderr",
     "output_type": "stream",
     "text": [
      "spearmanr: 0.29984145079425234\n",
      "len(trn_idx) : 4856\n",
      "len(val_idx) : 1223\n"
     ]
    },
    {
     "name": "stdout",
     "output_type": "stream",
     "text": [
      "Training until validation scores don't improve for 100 rounds\n"
     ]
    },
    {
     "name": "stderr",
     "output_type": "stream",
     "text": [
      "Dumping model with pickle... answer_satisfaction_lightgbm_fold4.pkl\n"
     ]
    },
    {
     "name": "stdout",
     "output_type": "stream",
     "text": [
      "Early stopping, best iteration is:\n",
      "[93]\ttraining's rmse: 0.106906\tvalid_1's rmse: 0.123396\n"
     ]
    },
    {
     "name": "stderr",
     "output_type": "stream",
     "text": [
      "spearmanr: 0.3052880289044651\n",
      "============================================================================\n",
      "target: answer_satisfaction  LGB CV spearmanr: 0.29902481092738686\n",
      "============================================================================\n",
      "============================================================================\n",
      "target: answer_type_instructions  nn CV spearmanr: 0.7546667455609379\n",
      "============================================================================\n",
      "len(trn_idx) : 4866\n",
      "len(val_idx) : 1213\n"
     ]
    },
    {
     "name": "stdout",
     "output_type": "stream",
     "text": [
      "Training until validation scores don't improve for 100 rounds\n"
     ]
    },
    {
     "name": "stderr",
     "output_type": "stream",
     "text": [
      "Dumping model with pickle... answer_type_instructions_lightgbm_fold0.pkl\n"
     ]
    },
    {
     "name": "stdout",
     "output_type": "stream",
     "text": [
      "Early stopping, best iteration is:\n",
      "[267]\ttraining's rmse: 0.182555\tvalid_1's rmse: 0.27261\n"
     ]
    },
    {
     "name": "stderr",
     "output_type": "stream",
     "text": [
      "spearmanr: 0.7540482422742035\n",
      "len(trn_idx) : 4866\n",
      "len(val_idx) : 1213\n"
     ]
    },
    {
     "name": "stdout",
     "output_type": "stream",
     "text": [
      "Training until validation scores don't improve for 100 rounds\n"
     ]
    },
    {
     "name": "stderr",
     "output_type": "stream",
     "text": [
      "Dumping model with pickle... answer_type_instructions_lightgbm_fold1.pkl\n"
     ]
    },
    {
     "name": "stdout",
     "output_type": "stream",
     "text": [
      "Early stopping, best iteration is:\n",
      "[247]\ttraining's rmse: 0.165355\tvalid_1's rmse: 0.268318\n"
     ]
    },
    {
     "name": "stderr",
     "output_type": "stream",
     "text": [
      "spearmanr: 0.7614344540580056\n",
      "len(trn_idx) : 4862\n",
      "len(val_idx) : 1217\n"
     ]
    },
    {
     "name": "stdout",
     "output_type": "stream",
     "text": [
      "Training until validation scores don't improve for 100 rounds\n"
     ]
    },
    {
     "name": "stderr",
     "output_type": "stream",
     "text": [
      "Dumping model with pickle... answer_type_instructions_lightgbm_fold2.pkl\n"
     ]
    },
    {
     "name": "stdout",
     "output_type": "stream",
     "text": [
      "Early stopping, best iteration is:\n",
      "[301]\ttraining's rmse: 0.175264\tvalid_1's rmse: 0.269171\n"
     ]
    },
    {
     "name": "stderr",
     "output_type": "stream",
     "text": [
      "spearmanr: 0.7604465220983874\n",
      "len(trn_idx) : 4866\n",
      "len(val_idx) : 1213\n"
     ]
    },
    {
     "name": "stdout",
     "output_type": "stream",
     "text": [
      "Training until validation scores don't improve for 100 rounds\n"
     ]
    },
    {
     "name": "stderr",
     "output_type": "stream",
     "text": [
      "Dumping model with pickle... answer_type_instructions_lightgbm_fold3.pkl\n"
     ]
    },
    {
     "name": "stdout",
     "output_type": "stream",
     "text": [
      "Early stopping, best iteration is:\n",
      "[205]\ttraining's rmse: 0.175164\tvalid_1's rmse: 0.276392\n"
     ]
    },
    {
     "name": "stderr",
     "output_type": "stream",
     "text": [
      "spearmanr: 0.7434753955373488\n",
      "len(trn_idx) : 4856\n",
      "len(val_idx) : 1223\n"
     ]
    },
    {
     "name": "stdout",
     "output_type": "stream",
     "text": [
      "Training until validation scores don't improve for 100 rounds\n"
     ]
    },
    {
     "name": "stderr",
     "output_type": "stream",
     "text": [
      "Dumping model with pickle... answer_type_instructions_lightgbm_fold4.pkl\n"
     ]
    },
    {
     "name": "stdout",
     "output_type": "stream",
     "text": [
      "Early stopping, best iteration is:\n",
      "[200]\ttraining's rmse: 0.17652\tvalid_1's rmse: 0.274523\n"
     ]
    },
    {
     "name": "stderr",
     "output_type": "stream",
     "text": [
      "spearmanr: 0.7505241903534703\n",
      "============================================================================\n",
      "target: answer_type_instructions  LGB CV spearmanr: 0.7538524763055886\n",
      "============================================================================\n",
      "============================================================================\n",
      "target: answer_type_procedure  nn CV spearmanr: 0.28174604106918044\n",
      "============================================================================\n",
      "len(trn_idx) : 4866\n",
      "len(val_idx) : 1213\n"
     ]
    },
    {
     "name": "stdout",
     "output_type": "stream",
     "text": [
      "Training until validation scores don't improve for 100 rounds\n"
     ]
    },
    {
     "name": "stderr",
     "output_type": "stream",
     "text": [
      "Dumping model with pickle... answer_type_procedure_lightgbm_fold0.pkl\n"
     ]
    },
    {
     "name": "stdout",
     "output_type": "stream",
     "text": [
      "Early stopping, best iteration is:\n",
      "[186]\ttraining's rmse: 0.188373\tvalid_1's rmse: 0.229788\n"
     ]
    },
    {
     "name": "stderr",
     "output_type": "stream",
     "text": [
      "spearmanr: 0.2952928546128511\n",
      "len(trn_idx) : 4866\n",
      "len(val_idx) : 1213\n"
     ]
    },
    {
     "name": "stdout",
     "output_type": "stream",
     "text": [
      "Training until validation scores don't improve for 100 rounds\n"
     ]
    },
    {
     "name": "stderr",
     "output_type": "stream",
     "text": [
      "Dumping model with pickle... answer_type_procedure_lightgbm_fold1.pkl\n"
     ]
    },
    {
     "name": "stdout",
     "output_type": "stream",
     "text": [
      "Early stopping, best iteration is:\n",
      "[102]\ttraining's rmse: 0.191637\tvalid_1's rmse: 0.215381\n"
     ]
    },
    {
     "name": "stderr",
     "output_type": "stream",
     "text": [
      "spearmanr: 0.30024199316447975\n",
      "len(trn_idx) : 4862\n",
      "len(val_idx) : 1217\n"
     ]
    },
    {
     "name": "stdout",
     "output_type": "stream",
     "text": [
      "Training until validation scores don't improve for 100 rounds\n"
     ]
    },
    {
     "name": "stderr",
     "output_type": "stream",
     "text": [
      "Dumping model with pickle... answer_type_procedure_lightgbm_fold2.pkl\n"
     ]
    },
    {
     "name": "stdout",
     "output_type": "stream",
     "text": [
      "Early stopping, best iteration is:\n",
      "[78]\ttraining's rmse: 0.202658\tvalid_1's rmse: 0.215745\n"
     ]
    },
    {
     "name": "stderr",
     "output_type": "stream",
     "text": [
      "spearmanr: 0.23810186780927567\n",
      "len(trn_idx) : 4866\n",
      "len(val_idx) : 1213\n"
     ]
    },
    {
     "name": "stdout",
     "output_type": "stream",
     "text": [
      "Training until validation scores don't improve for 100 rounds\n"
     ]
    },
    {
     "name": "stderr",
     "output_type": "stream",
     "text": [
      "Dumping model with pickle... answer_type_procedure_lightgbm_fold3.pkl\n"
     ]
    },
    {
     "name": "stdout",
     "output_type": "stream",
     "text": [
      "Early stopping, best iteration is:\n",
      "[93]\ttraining's rmse: 0.194422\tvalid_1's rmse: 0.218317\n"
     ]
    },
    {
     "name": "stderr",
     "output_type": "stream",
     "text": [
      "spearmanr: 0.2636707248249855\n",
      "len(trn_idx) : 4856\n",
      "len(val_idx) : 1223\n"
     ]
    },
    {
     "name": "stdout",
     "output_type": "stream",
     "text": [
      "Training until validation scores don't improve for 100 rounds\n"
     ]
    },
    {
     "name": "stderr",
     "output_type": "stream",
     "text": [
      "Dumping model with pickle... answer_type_procedure_lightgbm_fold4.pkl\n"
     ]
    },
    {
     "name": "stdout",
     "output_type": "stream",
     "text": [
      "Early stopping, best iteration is:\n",
      "[62]\ttraining's rmse: 0.202053\tvalid_1's rmse: 0.215223\n"
     ]
    },
    {
     "name": "stderr",
     "output_type": "stream",
     "text": [
      "spearmanr: 0.21647493298807557\n",
      "============================================================================\n",
      "target: answer_type_procedure  LGB CV spearmanr: 0.25918856113111166\n",
      "============================================================================\n",
      "============================================================================\n",
      "target: answer_type_reason_explanation  nn CV spearmanr: 0.6768266936451168\n",
      "============================================================================\n",
      "len(trn_idx) : 4866\n",
      "len(val_idx) : 1213\n"
     ]
    },
    {
     "name": "stdout",
     "output_type": "stream",
     "text": [
      "Training until validation scores don't improve for 100 rounds\n"
     ]
    },
    {
     "name": "stderr",
     "output_type": "stream",
     "text": [
      "Dumping model with pickle... answer_type_reason_explanation_lightgbm_fold0.pkl\n"
     ]
    },
    {
     "name": "stdout",
     "output_type": "stream",
     "text": [
      "Early stopping, best iteration is:\n",
      "[211]\ttraining's rmse: 0.207763\tvalid_1's rmse: 0.299073\n"
     ]
    },
    {
     "name": "stderr",
     "output_type": "stream",
     "text": [
      "spearmanr: 0.6863118497589509\n",
      "len(trn_idx) : 4866\n",
      "len(val_idx) : 1213\n"
     ]
    },
    {
     "name": "stdout",
     "output_type": "stream",
     "text": [
      "Training until validation scores don't improve for 100 rounds\n"
     ]
    },
    {
     "name": "stderr",
     "output_type": "stream",
     "text": [
      "Dumping model with pickle... answer_type_reason_explanation_lightgbm_fold1.pkl\n"
     ]
    },
    {
     "name": "stdout",
     "output_type": "stream",
     "text": [
      "Early stopping, best iteration is:\n",
      "[166]\ttraining's rmse: 0.187176\tvalid_1's rmse: 0.297655\n"
     ]
    },
    {
     "name": "stderr",
     "output_type": "stream",
     "text": [
      "spearmanr: 0.6822632420422634\n",
      "len(trn_idx) : 4862\n",
      "len(val_idx) : 1217\n"
     ]
    },
    {
     "name": "stdout",
     "output_type": "stream",
     "text": [
      "Training until validation scores don't improve for 100 rounds\n"
     ]
    },
    {
     "name": "stderr",
     "output_type": "stream",
     "text": [
      "Dumping model with pickle... answer_type_reason_explanation_lightgbm_fold2.pkl\n"
     ]
    },
    {
     "name": "stdout",
     "output_type": "stream",
     "text": [
      "Early stopping, best iteration is:\n",
      "[180]\ttraining's rmse: 0.209743\tvalid_1's rmse: 0.312033\n"
     ]
    },
    {
     "name": "stderr",
     "output_type": "stream",
     "text": [
      "spearmanr: 0.6566178954394131\n",
      "len(trn_idx) : 4866\n",
      "len(val_idx) : 1213\n"
     ]
    },
    {
     "name": "stdout",
     "output_type": "stream",
     "text": [
      "Training until validation scores don't improve for 100 rounds\n"
     ]
    },
    {
     "name": "stderr",
     "output_type": "stream",
     "text": [
      "Dumping model with pickle... answer_type_reason_explanation_lightgbm_fold3.pkl\n"
     ]
    },
    {
     "name": "stdout",
     "output_type": "stream",
     "text": [
      "Early stopping, best iteration is:\n",
      "[183]\ttraining's rmse: 0.180944\tvalid_1's rmse: 0.299261\n"
     ]
    },
    {
     "name": "stderr",
     "output_type": "stream",
     "text": [
      "spearmanr: 0.6671361324998661\n",
      "len(trn_idx) : 4856\n",
      "len(val_idx) : 1223\n"
     ]
    },
    {
     "name": "stdout",
     "output_type": "stream",
     "text": [
      "Training until validation scores don't improve for 100 rounds\n"
     ]
    },
    {
     "name": "stderr",
     "output_type": "stream",
     "text": [
      "Dumping model with pickle... answer_type_reason_explanation_lightgbm_fold4.pkl\n"
     ]
    },
    {
     "name": "stdout",
     "output_type": "stream",
     "text": [
      "Early stopping, best iteration is:\n",
      "[187]\ttraining's rmse: 0.181193\tvalid_1's rmse: 0.301144\n"
     ]
    },
    {
     "name": "stderr",
     "output_type": "stream",
     "text": [
      "spearmanr: 0.6706293792305008\n",
      "============================================================================\n",
      "target: answer_type_reason_explanation  LGB CV spearmanr: 0.6722061857432938\n",
      "============================================================================\n",
      "============================================================================\n",
      "target: answer_well_written  nn CV spearmanr: 0.19743393129535572\n",
      "============================================================================\n",
      "len(trn_idx) : 4866\n",
      "len(val_idx) : 1213\n"
     ]
    },
    {
     "name": "stdout",
     "output_type": "stream",
     "text": [
      "Training until validation scores don't improve for 100 rounds\n"
     ]
    },
    {
     "name": "stderr",
     "output_type": "stream",
     "text": [
      "Dumping model with pickle... answer_well_written_lightgbm_fold0.pkl\n"
     ]
    },
    {
     "name": "stdout",
     "output_type": "stream",
     "text": [
      "Early stopping, best iteration is:\n",
      "[162]\ttraining's rmse: 0.0889219\tvalid_1's rmse: 0.0963938\n"
     ]
    },
    {
     "name": "stderr",
     "output_type": "stream",
     "text": [
      "spearmanr: 0.20059794749602705\n",
      "len(trn_idx) : 4866\n",
      "len(val_idx) : 1213\n"
     ]
    },
    {
     "name": "stdout",
     "output_type": "stream",
     "text": [
      "Training until validation scores don't improve for 100 rounds\n"
     ]
    },
    {
     "name": "stderr",
     "output_type": "stream",
     "text": [
      "Dumping model with pickle... answer_well_written_lightgbm_fold1.pkl\n"
     ]
    },
    {
     "name": "stdout",
     "output_type": "stream",
     "text": [
      "Early stopping, best iteration is:\n",
      "[94]\ttraining's rmse: 0.0916512\tvalid_1's rmse: 0.0977486\n"
     ]
    },
    {
     "name": "stderr",
     "output_type": "stream",
     "text": [
      "spearmanr: 0.1610586473027396\n",
      "len(trn_idx) : 4862\n",
      "len(val_idx) : 1217\n"
     ]
    },
    {
     "name": "stdout",
     "output_type": "stream",
     "text": [
      "Training until validation scores don't improve for 100 rounds\n"
     ]
    },
    {
     "name": "stderr",
     "output_type": "stream",
     "text": [
      "Dumping model with pickle... answer_well_written_lightgbm_fold2.pkl\n"
     ]
    },
    {
     "name": "stdout",
     "output_type": "stream",
     "text": [
      "Early stopping, best iteration is:\n",
      "[131]\ttraining's rmse: 0.0905009\tvalid_1's rmse: 0.101366\n"
     ]
    },
    {
     "name": "stderr",
     "output_type": "stream",
     "text": [
      "spearmanr: 0.20641423939443132\n",
      "len(trn_idx) : 4866\n",
      "len(val_idx) : 1213\n"
     ]
    },
    {
     "name": "stdout",
     "output_type": "stream",
     "text": [
      "Training until validation scores don't improve for 100 rounds\n"
     ]
    },
    {
     "name": "stderr",
     "output_type": "stream",
     "text": [
      "Dumping model with pickle... answer_well_written_lightgbm_fold3.pkl\n"
     ]
    },
    {
     "name": "stdout",
     "output_type": "stream",
     "text": [
      "Early stopping, best iteration is:\n",
      "[236]\ttraining's rmse: 0.0853279\tvalid_1's rmse: 0.0981561\n"
     ]
    },
    {
     "name": "stderr",
     "output_type": "stream",
     "text": [
      "spearmanr: 0.20598549179642242\n",
      "len(trn_idx) : 4856\n",
      "len(val_idx) : 1223\n"
     ]
    },
    {
     "name": "stdout",
     "output_type": "stream",
     "text": [
      "Training until validation scores don't improve for 100 rounds\n"
     ]
    },
    {
     "name": "stderr",
     "output_type": "stream",
     "text": [
      "Dumping model with pickle... answer_well_written_lightgbm_fold4.pkl\n"
     ]
    },
    {
     "name": "stdout",
     "output_type": "stream",
     "text": [
      "Early stopping, best iteration is:\n",
      "[102]\ttraining's rmse: 0.0910428\tvalid_1's rmse: 0.0978224\n"
     ]
    },
    {
     "name": "stderr",
     "output_type": "stream",
     "text": [
      "spearmanr: 0.2147512686540319\n",
      "============================================================================\n",
      "target: answer_well_written  LGB CV spearmanr: 0.19364566242465361\n",
      "============================================================================\n"
     ]
    }
   ],
   "source": [
    "import warnings\n",
    "warnings.filterwarnings(\"ignore\")\n",
    "\n",
    "nn_oof = pd.read_csv(MODEL_DIR+'oof.csv')\n",
    "folds = pd.read_csv(MODEL_DIR+'folds.csv')\n",
    "output = pd.DataFrame()\n",
    "output[ID] = folds[ID]\n",
    "\n",
    "for i in range(len(target_cols)):\n",
    "\n",
    "    target_col = target_cols[i]\n",
    "    target = train[target_col]\n",
    "    logger.info('============================================================================')\n",
    "    logger.info(f'target: {target_col}  nn CV spearmanr: {spearmanr(target, nn_oof[target_col]).correlation}')\n",
    "    logger.info('============================================================================')\n",
    "\n",
    "    oof = np.zeros(len(train))\n",
    "\n",
    "    for fold in range(NUM_FOLDS):\n",
    "\n",
    "        train_cols = ['category', 'netloc', 'qa_same_user_page_flag', 'question_title_num_words',\n",
    "                      'question_body_num_words', 'answer_num_words', 'question_vs_answer_length']\n",
    "        bert_features = pd.read_csv(f'../input/lgb-with-bert-features/train_bert_features_{fold}.csv')\n",
    "        df = pd.concat([train[train_cols], bert_features], axis=1)\n",
    "        num_features = [c for c in df.columns if df.dtypes[c] != 'object']\n",
    "        cat_features = ['netloc', 'category', 'qa_same_user_page_flag']\n",
    "        features = num_features + cat_features\n",
    "        drop_features = ['qa_id']\n",
    "        features = [c for c in features if c not in drop_features]\n",
    "\n",
    "        lgb_param = {\n",
    "                    #'objective': 'regression',\n",
    "                    'metric': 'rmse',\n",
    "                    'objective': 'xentropy',\n",
    "                    'boosting_type': 'gbdt',\n",
    "                    'learning_rate': 0.01,\n",
    "                    'data_random_seed': 42,\n",
    "                    'num_leaves': 25,\n",
    "                    'subsample': 0.7,\n",
    "                    'subsample_freq': 2,\n",
    "                    'max_depth': 6,\n",
    "                    'reg_alpha': 0.1,\n",
    "                    'colsample_bytree': 0.7,\n",
    "                    'min_split_gain': 0.5,\n",
    "                    'reg_lambda': 0.1,\n",
    "                    'min_data_in_leaf': 100,\n",
    "                    'verbosity': -1,\n",
    "                }\n",
    "\n",
    "        _oof, _, _ = run_single_lightgbm(lgb_param, df, df, folds, features, target, fold_num=fold, \n",
    "                                         categorical=cat_features, target_col=target_col)\n",
    "        oof += _oof\n",
    "\n",
    "    # spearmanr\n",
    "    rho_val = spearmanr(target, oof).correlation\n",
    "    logger.info('============================================================================')\n",
    "    logger.info(f'target: {target_col}  LGB CV spearmanr: {rho_val}')\n",
    "    logger.info('============================================================================')\n",
    "    \n",
    "    output[target_col] = oof"
   ]
  },
  {
   "cell_type": "code",
   "execution_count": 4,
   "metadata": {},
   "outputs": [
    {
     "data": {
      "text/html": [
       "<div>\n",
       "<style scoped>\n",
       "    .dataframe tbody tr th:only-of-type {\n",
       "        vertical-align: middle;\n",
       "    }\n",
       "\n",
       "    .dataframe tbody tr th {\n",
       "        vertical-align: top;\n",
       "    }\n",
       "\n",
       "    .dataframe thead th {\n",
       "        text-align: right;\n",
       "    }\n",
       "</style>\n",
       "<table border=\"1\" class=\"dataframe\">\n",
       "  <thead>\n",
       "    <tr style=\"text-align: right;\">\n",
       "      <th></th>\n",
       "      <th>qa_id</th>\n",
       "      <th>question_asker_intent_understanding</th>\n",
       "      <th>question_body_critical</th>\n",
       "      <th>question_conversational</th>\n",
       "      <th>question_expect_short_answer</th>\n",
       "      <th>question_fact_seeking</th>\n",
       "      <th>question_has_commonly_accepted_answer</th>\n",
       "      <th>question_interestingness_others</th>\n",
       "      <th>question_interestingness_self</th>\n",
       "      <th>question_multi_intent</th>\n",
       "      <th>...</th>\n",
       "      <th>question_well_written</th>\n",
       "      <th>answer_helpful</th>\n",
       "      <th>answer_level_of_information</th>\n",
       "      <th>answer_plausible</th>\n",
       "      <th>answer_relevance</th>\n",
       "      <th>answer_satisfaction</th>\n",
       "      <th>answer_type_instructions</th>\n",
       "      <th>answer_type_procedure</th>\n",
       "      <th>answer_type_reason_explanation</th>\n",
       "      <th>answer_well_written</th>\n",
       "    </tr>\n",
       "  </thead>\n",
       "  <tbody>\n",
       "    <tr>\n",
       "      <th>0</th>\n",
       "      <td>0</td>\n",
       "      <td>0.919385</td>\n",
       "      <td>0.763212</td>\n",
       "      <td>0.133850</td>\n",
       "      <td>0.532502</td>\n",
       "      <td>0.769519</td>\n",
       "      <td>0.452999</td>\n",
       "      <td>0.439386</td>\n",
       "      <td>0.548741</td>\n",
       "      <td>0.087481</td>\n",
       "      <td>...</td>\n",
       "      <td>0.938038</td>\n",
       "      <td>0.975896</td>\n",
       "      <td>0.610017</td>\n",
       "      <td>0.987376</td>\n",
       "      <td>0.969892</td>\n",
       "      <td>0.876631</td>\n",
       "      <td>0.050595</td>\n",
       "      <td>0.199820</td>\n",
       "      <td>0.807416</td>\n",
       "      <td>0.835579</td>\n",
       "    </tr>\n",
       "    <tr>\n",
       "      <th>1</th>\n",
       "      <td>1</td>\n",
       "      <td>0.802717</td>\n",
       "      <td>0.870660</td>\n",
       "      <td>0.030838</td>\n",
       "      <td>0.425130</td>\n",
       "      <td>0.975821</td>\n",
       "      <td>0.802414</td>\n",
       "      <td>0.606284</td>\n",
       "      <td>0.508436</td>\n",
       "      <td>0.286987</td>\n",
       "      <td>...</td>\n",
       "      <td>0.846635</td>\n",
       "      <td>0.606320</td>\n",
       "      <td>0.396153</td>\n",
       "      <td>0.624009</td>\n",
       "      <td>0.741587</td>\n",
       "      <td>0.625852</td>\n",
       "      <td>0.001418</td>\n",
       "      <td>0.025773</td>\n",
       "      <td>0.803415</td>\n",
       "      <td>0.792329</td>\n",
       "    </tr>\n",
       "    <tr>\n",
       "      <th>2</th>\n",
       "      <td>2</td>\n",
       "      <td>0.801068</td>\n",
       "      <td>0.114099</td>\n",
       "      <td>0.024304</td>\n",
       "      <td>0.745167</td>\n",
       "      <td>0.804123</td>\n",
       "      <td>0.911030</td>\n",
       "      <td>0.375687</td>\n",
       "      <td>0.254366</td>\n",
       "      <td>0.468644</td>\n",
       "      <td>...</td>\n",
       "      <td>0.522497</td>\n",
       "      <td>0.958741</td>\n",
       "      <td>0.597884</td>\n",
       "      <td>0.972841</td>\n",
       "      <td>0.975081</td>\n",
       "      <td>0.887242</td>\n",
       "      <td>0.696899</td>\n",
       "      <td>0.296545</td>\n",
       "      <td>0.706149</td>\n",
       "      <td>0.825503</td>\n",
       "    </tr>\n",
       "    <tr>\n",
       "      <th>3</th>\n",
       "      <td>3</td>\n",
       "      <td>0.829096</td>\n",
       "      <td>0.727061</td>\n",
       "      <td>0.058715</td>\n",
       "      <td>0.814212</td>\n",
       "      <td>0.765017</td>\n",
       "      <td>0.856277</td>\n",
       "      <td>0.436492</td>\n",
       "      <td>0.467468</td>\n",
       "      <td>0.431506</td>\n",
       "      <td>...</td>\n",
       "      <td>0.879282</td>\n",
       "      <td>0.695098</td>\n",
       "      <td>0.702164</td>\n",
       "      <td>0.706668</td>\n",
       "      <td>0.807679</td>\n",
       "      <td>0.673661</td>\n",
       "      <td>0.120646</td>\n",
       "      <td>0.313440</td>\n",
       "      <td>0.689994</td>\n",
       "      <td>0.580218</td>\n",
       "    </tr>\n",
       "    <tr>\n",
       "      <th>4</th>\n",
       "      <td>5</td>\n",
       "      <td>0.833635</td>\n",
       "      <td>0.666730</td>\n",
       "      <td>0.025321</td>\n",
       "      <td>0.660665</td>\n",
       "      <td>0.754761</td>\n",
       "      <td>0.829150</td>\n",
       "      <td>0.493166</td>\n",
       "      <td>0.387803</td>\n",
       "      <td>0.084927</td>\n",
       "      <td>...</td>\n",
       "      <td>0.855202</td>\n",
       "      <td>0.596161</td>\n",
       "      <td>0.229608</td>\n",
       "      <td>0.551253</td>\n",
       "      <td>0.482131</td>\n",
       "      <td>0.503570</td>\n",
       "      <td>0.776684</td>\n",
       "      <td>0.224922</td>\n",
       "      <td>0.074021</td>\n",
       "      <td>0.211178</td>\n",
       "    </tr>\n",
       "  </tbody>\n",
       "</table>\n",
       "<p>5 rows × 31 columns</p>\n",
       "</div>"
      ],
      "text/plain": [
       "   qa_id  question_asker_intent_understanding  question_body_critical  \\\n",
       "0      0                             0.919385                0.763212   \n",
       "1      1                             0.802717                0.870660   \n",
       "2      2                             0.801068                0.114099   \n",
       "3      3                             0.829096                0.727061   \n",
       "4      5                             0.833635                0.666730   \n",
       "\n",
       "   question_conversational  question_expect_short_answer  \\\n",
       "0                 0.133850                      0.532502   \n",
       "1                 0.030838                      0.425130   \n",
       "2                 0.024304                      0.745167   \n",
       "3                 0.058715                      0.814212   \n",
       "4                 0.025321                      0.660665   \n",
       "\n",
       "   question_fact_seeking  question_has_commonly_accepted_answer  \\\n",
       "0               0.769519                               0.452999   \n",
       "1               0.975821                               0.802414   \n",
       "2               0.804123                               0.911030   \n",
       "3               0.765017                               0.856277   \n",
       "4               0.754761                               0.829150   \n",
       "\n",
       "   question_interestingness_others  question_interestingness_self  \\\n",
       "0                         0.439386                       0.548741   \n",
       "1                         0.606284                       0.508436   \n",
       "2                         0.375687                       0.254366   \n",
       "3                         0.436492                       0.467468   \n",
       "4                         0.493166                       0.387803   \n",
       "\n",
       "   question_multi_intent  ...  question_well_written  answer_helpful  \\\n",
       "0               0.087481  ...               0.938038        0.975896   \n",
       "1               0.286987  ...               0.846635        0.606320   \n",
       "2               0.468644  ...               0.522497        0.958741   \n",
       "3               0.431506  ...               0.879282        0.695098   \n",
       "4               0.084927  ...               0.855202        0.596161   \n",
       "\n",
       "   answer_level_of_information  answer_plausible  answer_relevance  \\\n",
       "0                     0.610017          0.987376          0.969892   \n",
       "1                     0.396153          0.624009          0.741587   \n",
       "2                     0.597884          0.972841          0.975081   \n",
       "3                     0.702164          0.706668          0.807679   \n",
       "4                     0.229608          0.551253          0.482131   \n",
       "\n",
       "   answer_satisfaction  answer_type_instructions  answer_type_procedure  \\\n",
       "0             0.876631                  0.050595               0.199820   \n",
       "1             0.625852                  0.001418               0.025773   \n",
       "2             0.887242                  0.696899               0.296545   \n",
       "3             0.673661                  0.120646               0.313440   \n",
       "4             0.503570                  0.776684               0.224922   \n",
       "\n",
       "   answer_type_reason_explanation  answer_well_written  \n",
       "0                        0.807416             0.835579  \n",
       "1                        0.803415             0.792329  \n",
       "2                        0.706149             0.825503  \n",
       "3                        0.689994             0.580218  \n",
       "4                        0.074021             0.211178  \n",
       "\n",
       "[5 rows x 31 columns]"
      ]
     },
     "execution_count": 4,
     "metadata": {},
     "output_type": "execute_result"
    }
   ],
   "source": [
    "output.head()"
   ]
  },
  {
   "cell_type": "code",
   "execution_count": 5,
   "metadata": {},
   "outputs": [],
   "source": [
    "output.to_csv('lgb_oof.csv', index=False)"
   ]
  },
  {
   "cell_type": "code",
   "execution_count": null,
   "metadata": {},
   "outputs": [],
   "source": []
  }
 ],
 "metadata": {
  "kernelspec": {
   "display_name": "Python 3",
   "language": "python",
   "name": "python3"
  },
  "language_info": {
   "codemirror_mode": {
    "name": "ipython",
    "version": 3
   },
   "file_extension": ".py",
   "mimetype": "text/x-python",
   "name": "python",
   "nbconvert_exporter": "python",
   "pygments_lexer": "ipython3",
   "version": "3.6.6"
  }
 },
 "nbformat": 4,
 "nbformat_minor": 1
}
